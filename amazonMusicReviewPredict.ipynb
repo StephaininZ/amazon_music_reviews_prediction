{
 "cells": [
  {
   "cell_type": "markdown",
   "metadata": {
    "id": "KUOGfUHVjQvX"
   },
   "source": [
    "## Amazon Music Rating Prediction - Kaggle competition\n",
    "\n",
    "<br>Yingying Zhou    University of Toronto    Faculty of Information </br>\n",
    "<br>yingying.zhou@mail.utoronto.ca</br>"
   ]
  },
  {
   "cell_type": "markdown",
   "metadata": {},
   "source": [
    "### build a recommender system model to make predictions related to Amazon Music Reviews\n",
    "\n",
    "Given a (user, item) pair and associated review data, we want to predict the review’s star rating as accurately as possible. The performance will be measured with MSE"
   ]
  },
  {
   "cell_type": "code",
   "execution_count": 1,
   "metadata": {
    "colab": {
     "base_uri": "https://localhost:8080/"
    },
    "id": "Rxy51ZiwwRN-",
    "outputId": "ce62755e-cc4b-4b84-ddb9-cf63f49362f6"
   },
   "outputs": [
    {
     "name": "stdout",
     "output_type": "stream",
     "text": [
      "2.4.1\n",
      "Found GPU at: /device:GPU:0\n",
      "1.8.1+cu101\n",
      "There are 1 GPU(s) available.\n",
      "We will use the GPU: Tesla P100-PCIE-16GB\n"
     ]
    }
   ],
   "source": [
    "# deploy GPU on google colab:\n",
    "\n",
    "import tensorflow as tf\n",
    "print(tf.__version__)\n",
    "device_name = tf.test.gpu_device_name()\n",
    "if device_name == '/device:GPU:0':\n",
    "    print('Found GPU at: {}'.format(device_name))\n",
    "else:\n",
    "    raise SystemError('GPU device not found')\n",
    "\n",
    "import torch\n",
    "print(torch.__version__)\n",
    "if torch.cuda.is_available():       \n",
    "    device = torch.device(\"cuda\")\n",
    "    print('There are %d GPU(s) available.' % torch.cuda.device_count())\n",
    "    print('We will use the GPU:', torch.cuda.get_device_name(0))\n",
    "else:\n",
    "    print('No GPU available, using the CPU instead.')\n",
    "    device = torch.device(\"cpu\")"
   ]
  },
  {
   "cell_type": "code",
   "execution_count": 2,
   "metadata": {
    "colab": {
     "base_uri": "https://localhost:8080/"
    },
    "id": "Zf9rYmg_w5aS",
    "outputId": "5f650f65-f541-420f-ca38-28e2847c7160"
   },
   "outputs": [
    {
     "name": "stdout",
     "output_type": "stream",
     "text": [
      "Collecting transformers\n",
      "\u001b[?25l  Downloading https://files.pythonhosted.org/packages/ed/d5/f4157a376b8a79489a76ce6cfe147f4f3be1e029b7144fa7b8432e8acb26/transformers-4.4.2-py3-none-any.whl (2.0MB)\n",
      "\u001b[K     |████████████████████████████████| 2.0MB 14.6MB/s \n",
      "\u001b[?25hRequirement already satisfied: regex!=2019.12.17 in /usr/local/lib/python3.7/dist-packages (from transformers) (2019.12.20)\n",
      "Requirement already satisfied: numpy>=1.17 in /usr/local/lib/python3.7/dist-packages (from transformers) (1.19.5)\n",
      "Requirement already satisfied: filelock in /usr/local/lib/python3.7/dist-packages (from transformers) (3.0.12)\n",
      "Requirement already satisfied: tqdm>=4.27 in /usr/local/lib/python3.7/dist-packages (from transformers) (4.41.1)\n",
      "Requirement already satisfied: importlib-metadata; python_version < \"3.8\" in /usr/local/lib/python3.7/dist-packages (from transformers) (3.8.1)\n",
      "Collecting sacremoses\n",
      "\u001b[?25l  Downloading https://files.pythonhosted.org/packages/7d/34/09d19aff26edcc8eb2a01bed8e98f13a1537005d31e95233fd48216eed10/sacremoses-0.0.43.tar.gz (883kB)\n",
      "\u001b[K     |████████████████████████████████| 890kB 72.3MB/s \n",
      "\u001b[?25hRequirement already satisfied: packaging in /usr/local/lib/python3.7/dist-packages (from transformers) (20.9)\n",
      "Collecting tokenizers<0.11,>=0.10.1\n",
      "\u001b[?25l  Downloading https://files.pythonhosted.org/packages/71/23/2ddc317b2121117bf34dd00f5b0de194158f2a44ee2bf5e47c7166878a97/tokenizers-0.10.1-cp37-cp37m-manylinux2010_x86_64.whl (3.2MB)\n",
      "\u001b[K     |████████████████████████████████| 3.2MB 66.2MB/s \n",
      "\u001b[?25hRequirement already satisfied: requests in /usr/local/lib/python3.7/dist-packages (from transformers) (2.23.0)\n",
      "Requirement already satisfied: zipp>=0.5 in /usr/local/lib/python3.7/dist-packages (from importlib-metadata; python_version < \"3.8\"->transformers) (3.4.1)\n",
      "Requirement already satisfied: typing-extensions>=3.6.4; python_version < \"3.8\" in /usr/local/lib/python3.7/dist-packages (from importlib-metadata; python_version < \"3.8\"->transformers) (3.7.4.3)\n",
      "Requirement already satisfied: six in /usr/local/lib/python3.7/dist-packages (from sacremoses->transformers) (1.15.0)\n",
      "Requirement already satisfied: click in /usr/local/lib/python3.7/dist-packages (from sacremoses->transformers) (7.1.2)\n",
      "Requirement already satisfied: joblib in /usr/local/lib/python3.7/dist-packages (from sacremoses->transformers) (1.0.1)\n",
      "Requirement already satisfied: pyparsing>=2.0.2 in /usr/local/lib/python3.7/dist-packages (from packaging->transformers) (2.4.7)\n",
      "Requirement already satisfied: certifi>=2017.4.17 in /usr/local/lib/python3.7/dist-packages (from requests->transformers) (2020.12.5)\n",
      "Requirement already satisfied: idna<3,>=2.5 in /usr/local/lib/python3.7/dist-packages (from requests->transformers) (2.10)\n",
      "Requirement already satisfied: chardet<4,>=3.0.2 in /usr/local/lib/python3.7/dist-packages (from requests->transformers) (3.0.4)\n",
      "Requirement already satisfied: urllib3!=1.25.0,!=1.25.1,<1.26,>=1.21.1 in /usr/local/lib/python3.7/dist-packages (from requests->transformers) (1.24.3)\n",
      "Building wheels for collected packages: sacremoses\n",
      "  Building wheel for sacremoses (setup.py) ... \u001b[?25l\u001b[?25hdone\n",
      "  Created wheel for sacremoses: filename=sacremoses-0.0.43-cp37-none-any.whl size=893262 sha256=78a02d054a26a24894b26cfb63243ecd29d3fb317860710c7cfd7fcc98b96f8b\n",
      "  Stored in directory: /root/.cache/pip/wheels/29/3c/fd/7ce5c3f0666dab31a50123635e6fb5e19ceb42ce38d4e58f45\n",
      "Successfully built sacremoses\n",
      "Installing collected packages: sacremoses, tokenizers, transformers\n",
      "Successfully installed sacremoses-0.0.43 tokenizers-0.10.1 transformers-4.4.2\n"
     ]
    }
   ],
   "source": [
    "# import libraries\n",
    "import numpy as np\n",
    "import pandas as pd\n",
    "from sklearn import metrics\n",
    "!pip install transformers\n",
    "import transformers\n",
    "from torch.utils.data import Dataset, DataLoader, RandomSampler, SequentialSampler\n",
    "from transformers import BertTokenizerFast, BertModel, BertConfig"
   ]
  },
  {
   "cell_type": "code",
   "execution_count": 5,
   "metadata": {
    "colab": {
     "base_uri": "https://localhost:8080/",
     "height": 289
    },
    "id": "2CX3ohyjxahQ",
    "outputId": "2c19415f-996b-4401-95d3-1713d4aae042"
   },
   "outputs": [
    {
     "data": {
      "text/html": [
       "<div>\n",
       "<style scoped>\n",
       "    .dataframe tbody tr th:only-of-type {\n",
       "        vertical-align: middle;\n",
       "    }\n",
       "\n",
       "    .dataframe tbody tr th {\n",
       "        vertical-align: top;\n",
       "    }\n",
       "\n",
       "    .dataframe thead th {\n",
       "        text-align: right;\n",
       "    }\n",
       "</style>\n",
       "<table border=\"1\" class=\"dataframe\">\n",
       "  <thead>\n",
       "    <tr style=\"text-align: right;\">\n",
       "      <th></th>\n",
       "      <th>overall</th>\n",
       "      <th>reviewTime</th>\n",
       "      <th>reviewerID</th>\n",
       "      <th>reviewText</th>\n",
       "      <th>summary</th>\n",
       "      <th>unixReviewTime</th>\n",
       "      <th>category</th>\n",
       "      <th>price</th>\n",
       "      <th>itemID</th>\n",
       "      <th>reviewHash</th>\n",
       "      <th>image</th>\n",
       "    </tr>\n",
       "  </thead>\n",
       "  <tbody>\n",
       "    <tr>\n",
       "      <th>0</th>\n",
       "      <td>5.0</td>\n",
       "      <td>08 26, 2014</td>\n",
       "      <td>u92990698</td>\n",
       "      <td>A contemporary jazz and soul performer who's m...</td>\n",
       "      <td>\" CLASSIQUE \"</td>\n",
       "      <td>1409011200</td>\n",
       "      <td>Jazz</td>\n",
       "      <td>$8.40</td>\n",
       "      <td>p23649501</td>\n",
       "      <td>3856620</td>\n",
       "      <td>NaN</td>\n",
       "    </tr>\n",
       "    <tr>\n",
       "      <th>1</th>\n",
       "      <td>5.0</td>\n",
       "      <td>05 11, 2003</td>\n",
       "      <td>u36200649</td>\n",
       "      <td>Very good idea to put both the 'pop' and 'orch...</td>\n",
       "      <td>Exceeded my Expectations - This album RAWKS!</td>\n",
       "      <td>1052611200</td>\n",
       "      <td>Alternative Rock</td>\n",
       "      <td>$10.98</td>\n",
       "      <td>p58458313</td>\n",
       "      <td>56086781</td>\n",
       "      <td>NaN</td>\n",
       "    </tr>\n",
       "    <tr>\n",
       "      <th>2</th>\n",
       "      <td>5.0</td>\n",
       "      <td>12 5, 2017</td>\n",
       "      <td>u10721702</td>\n",
       "      <td>This is a great collection of Carole King's so...</td>\n",
       "      <td>A Must-have for Carole King Fans</td>\n",
       "      <td>1512432000</td>\n",
       "      <td>Pop</td>\n",
       "      <td>$5.99</td>\n",
       "      <td>p97027626</td>\n",
       "      <td>55852154</td>\n",
       "      <td>NaN</td>\n",
       "    </tr>\n",
       "    <tr>\n",
       "      <th>3</th>\n",
       "      <td>5.0</td>\n",
       "      <td>09 24, 2013</td>\n",
       "      <td>u86003775</td>\n",
       "      <td>The is album is a brilliant piece of Jazz fusi...</td>\n",
       "      <td>A Master piece!</td>\n",
       "      <td>1379980800</td>\n",
       "      <td>Jazz</td>\n",
       "      <td>$14.64</td>\n",
       "      <td>p43167086</td>\n",
       "      <td>43228100</td>\n",
       "      <td>NaN</td>\n",
       "    </tr>\n",
       "    <tr>\n",
       "      <th>4</th>\n",
       "      <td>5.0</td>\n",
       "      <td>01 14, 2015</td>\n",
       "      <td>u25672859</td>\n",
       "      <td>Waited a LONG time for this DVD to be released...</td>\n",
       "      <td>especially if you like concert videos</td>\n",
       "      <td>1421193600</td>\n",
       "      <td>Alternative Rock</td>\n",
       "      <td>$9.92</td>\n",
       "      <td>p94494236</td>\n",
       "      <td>54425467</td>\n",
       "      <td>NaN</td>\n",
       "    </tr>\n",
       "  </tbody>\n",
       "</table>\n",
       "</div>"
      ],
      "text/plain": [
       "   overall   reviewTime reviewerID  ...     itemID reviewHash  image\n",
       "0      5.0  08 26, 2014  u92990698  ...  p23649501    3856620    NaN\n",
       "1      5.0  05 11, 2003  u36200649  ...  p58458313   56086781    NaN\n",
       "2      5.0   12 5, 2017  u10721702  ...  p97027626   55852154    NaN\n",
       "3      5.0  09 24, 2013  u86003775  ...  p43167086   43228100    NaN\n",
       "4      5.0  01 14, 2015  u25672859  ...  p94494236   54425467    NaN\n",
       "\n",
       "[5 rows x 11 columns]"
      ]
     },
     "execution_count": 5,
     "metadata": {
      "tags": []
     },
     "output_type": "execute_result"
    }
   ],
   "source": [
    "# Load dataset in a pandas dataframe\n",
    "music_df = pd.read_csv(\"train.csv\")\n",
    "music_df.head()"
   ]
  },
  {
   "cell_type": "markdown",
   "metadata": {
    "id": "oVhp6sWuBd1P"
   },
   "source": [
    "### Data Preprocessing"
   ]
  },
  {
   "cell_type": "code",
   "execution_count": 6,
   "metadata": {
    "colab": {
     "base_uri": "https://localhost:8080/"
    },
    "id": "2aYcheXMxhP7",
    "outputId": "a03cb6e8-cc27-4f9d-fd7e-e2eaa4f43f33"
   },
   "outputs": [
    {
     "data": {
      "text/plain": [
       "(149971, 11)"
      ]
     },
     "execution_count": 6,
     "metadata": {
      "tags": []
     },
     "output_type": "execute_result"
    }
   ],
   "source": [
    "# Remove the row if summary text is missing\n",
    "music_df = music_df[music_df['summary'].notna()]\n",
    "music_df.shape"
   ]
  },
  {
   "cell_type": "code",
   "execution_count": 7,
   "metadata": {
    "id": "AXBZFXtkxlkJ"
   },
   "outputs": [],
   "source": [
    "# Extract textual input feature 'summary' and the target variable 'overall' and convert to required format\n",
    "summary = music_df['summary'].values\n",
    "labels = music_df['overall'].values\n",
    "summary = summary.tolist()\n",
    "summary = [summ.lower() for summ in summary]   # make summary lowercase\n",
    "labels = labels.tolist()\n",
    "labels = [label-1 for label in labels]   # convert labels to range 0-4"
   ]
  },
  {
   "cell_type": "code",
   "execution_count": 8,
   "metadata": {
    "colab": {
     "base_uri": "https://localhost:8080/"
    },
    "id": "2yrxU7KWav4b",
    "outputId": "096842af-ba05-48d4-e210-993f8f3ba79b"
   },
   "outputs": [
    {
     "data": {
      "text/plain": [
       "{0.0, 1.0, 2.0, 3.0, 4.0}"
      ]
     },
     "execution_count": 8,
     "metadata": {
      "tags": []
     },
     "output_type": "execute_result"
    }
   ],
   "source": [
    "set(labels)"
   ]
  },
  {
   "cell_type": "code",
   "execution_count": 9,
   "metadata": {
    "id": "L3IleC3oxoD2"
   },
   "outputs": [],
   "source": [
    "# Training-validation split\n",
    "from sklearn.model_selection import train_test_split\n",
    "train_summ, val_summ, train_labels, val_labels = train_test_split(summary, labels, test_size=.2)"
   ]
  },
  {
   "cell_type": "markdown",
   "metadata": {
    "id": "1xDWpjwqjQvc"
   },
   "source": [
    "### Feature Encoding\n",
    "source code modified from Huggingface documentation: <br>https://huggingface.co/transformers/custom_datasets.html#sequence-classification-with-imdb-reviews</br>"
   ]
  },
  {
   "cell_type": "code",
   "execution_count": 10,
   "metadata": {
    "colab": {
     "base_uri": "https://localhost:8080/",
     "height": 164,
     "referenced_widgets": [
      "e9e7da74d85b4512960ad12fe7a456ef",
      "15b0844ecf83471ba6938be4fa263001",
      "1f89640361d64759950e99e74cf418ef",
      "d62daee6f5f148b1accd3968f3e5e483",
      "32acffb7bab84845ad084d86f0e04e99",
      "dd7aa91399644643b31cd9433d8b4d35",
      "9d76b7420e0e4358b4561fc0989e3f74",
      "378b043e266f4a5ab61a0b0a88ae443e",
      "ee1fe97ad6944c76a803ea5d4254180f",
      "dd5df843639f484b81a4a76b5afcbc78",
      "423dc766dd3d45d897edf1b459115ad5",
      "ac344ff3935e457fac08cc38e27e7ae8",
      "04667a9970ec4ff983f290983d683e5c",
      "43a3d41e63c846bebb45f325655f580d",
      "0dcf9bbe592d41969f86daf27c5e725b",
      "6ce09713f1b248f3b56118fe8b72f5c9",
      "8de31479fd294ae09d1c8723a16dbfd6",
      "e1c9eddfe579472e97e32ff421b880e3",
      "76a1bf2375e14a6ea7bd250a410cb397",
      "5abed608178646fe94fbf06887a5541e",
      "e8d1d2712f1e468da287eab1bfd350e2",
      "1a084be0a1084363b007d6cc5433f080",
      "f7c60d7ade274bdb89eebc4f9cf193e2",
      "93c4aa5998244043a265606277af246a"
     ]
    },
    "id": "6vgj9jlayuB9",
    "outputId": "4d3716e1-db8c-451e-9070-e024abcee795"
   },
   "outputs": [
    {
     "data": {
      "application/vnd.jupyter.widget-view+json": {
       "model_id": "e9e7da74d85b4512960ad12fe7a456ef",
       "version_major": 2,
       "version_minor": 0
      },
      "text/plain": [
       "HBox(children=(FloatProgress(value=0.0, description='Downloading', max=231508.0, style=ProgressStyle(descripti…"
      ]
     },
     "metadata": {
      "tags": []
     },
     "output_type": "display_data"
    },
    {
     "name": "stdout",
     "output_type": "stream",
     "text": [
      "\n"
     ]
    },
    {
     "data": {
      "application/vnd.jupyter.widget-view+json": {
       "model_id": "ee1fe97ad6944c76a803ea5d4254180f",
       "version_major": 2,
       "version_minor": 0
      },
      "text/plain": [
       "HBox(children=(FloatProgress(value=0.0, description='Downloading', max=466062.0, style=ProgressStyle(descripti…"
      ]
     },
     "metadata": {
      "tags": []
     },
     "output_type": "display_data"
    },
    {
     "name": "stdout",
     "output_type": "stream",
     "text": [
      "\n"
     ]
    },
    {
     "data": {
      "application/vnd.jupyter.widget-view+json": {
       "model_id": "8de31479fd294ae09d1c8723a16dbfd6",
       "version_major": 2,
       "version_minor": 0
      },
      "text/plain": [
       "HBox(children=(FloatProgress(value=0.0, description='Downloading', max=28.0, style=ProgressStyle(description_w…"
      ]
     },
     "metadata": {
      "tags": []
     },
     "output_type": "display_data"
    },
    {
     "name": "stdout",
     "output_type": "stream",
     "text": [
      "\n"
     ]
    }
   ],
   "source": [
    "from transformers import BertTokenizerFast\n",
    "tokenizer = BertTokenizerFast.from_pretrained('bert-base-uncased')"
   ]
  },
  {
   "cell_type": "code",
   "execution_count": 11,
   "metadata": {
    "id": "T3QU8g2rzKEI"
   },
   "outputs": [],
   "source": [
    "train_encodings = tokenizer(train_summ, truncation=True, padding=True)\n",
    "val_encodings = tokenizer(val_summ, truncation=True, padding=True)"
   ]
  },
  {
   "cell_type": "code",
   "execution_count": 12,
   "metadata": {
    "id": "pWrqUJmwzc1i"
   },
   "outputs": [],
   "source": [
    "# Turn labels and encodings into a Dataset object in Pytorch:\n",
    "import torch\n",
    "\n",
    "class AmazonDataset(torch.utils.data.Dataset):\n",
    "    def __init__(self, encodings, labels):\n",
    "        self.encodings = encodings\n",
    "        self.labels = [float(label) for label in labels]\n",
    "\n",
    "    def __getitem__(self, idx):\n",
    "        item = {key: torch.tensor(val[idx]) for key, val in self.encodings.items()}\n",
    "        item['labels'] = torch.tensor(self.labels[idx])\n",
    "        return item\n",
    "\n",
    "    def __len__(self):\n",
    "        return len(self.labels)\n",
    "\n",
    "train_dataset = AmazonDataset(train_encodings, train_labels)\n",
    "val_dataset = AmazonDataset(val_encodings, val_labels)\n"
   ]
  },
  {
   "cell_type": "markdown",
   "metadata": {
    "id": "lW5bSPy4jQvd"
   },
   "source": [
    "### Fine-tuning & Training\n",
    "source code modified from Huggingface documentation: <br>https://huggingface.co/transformers/custom_datasets.html#sequence-classification-with-imdb-reviews</br>"
   ]
  },
  {
   "cell_type": "code",
   "execution_count": 13,
   "metadata": {
    "colab": {
     "base_uri": "https://localhost:8080/",
     "height": 388,
     "referenced_widgets": [
      "4377ba87d72a4145b3613f46ccb7043a",
      "dcedad6ff54d47c5be8b0357963b7bec",
      "0cada631d6db465098409a854d6020fd",
      "71e0d036e1e247e584d6b57d91dedcd6",
      "95d0c2b0aac640179f4493f3bcedf141",
      "c3985d686c2f4c46b1179120c05ed1e6",
      "0897ae2421734f09b05cbad8aa6ba260",
      "05418e0127524ddf9ec0e7a98b5706c4",
      "e3af94b50ea34cbfb128fc17dc166d6d",
      "6421cd11760b41b0a938150921416364",
      "d3183133082f481a89933ead365d8fde",
      "34f9806566444aec901124d1162af6c9",
      "30a728461599426f8e58b9b811823d40",
      "960eca5894494b5ba5036dc2e164c464",
      "92ec08287d7c47f4bcac79092cd985d3",
      "4512b94cea5543baac885020edde190c"
     ]
    },
    "id": "7XCV7av_z9Ir",
    "outputId": "15099d61-1da4-4841-c039-7e25079776ed"
   },
   "outputs": [
    {
     "data": {
      "application/vnd.jupyter.widget-view+json": {
       "model_id": "4377ba87d72a4145b3613f46ccb7043a",
       "version_major": 2,
       "version_minor": 0
      },
      "text/plain": [
       "HBox(children=(FloatProgress(value=0.0, description='Downloading', max=433.0, style=ProgressStyle(description_…"
      ]
     },
     "metadata": {
      "tags": []
     },
     "output_type": "display_data"
    },
    {
     "name": "stdout",
     "output_type": "stream",
     "text": [
      "\n"
     ]
    },
    {
     "data": {
      "application/vnd.jupyter.widget-view+json": {
       "model_id": "e3af94b50ea34cbfb128fc17dc166d6d",
       "version_major": 2,
       "version_minor": 0
      },
      "text/plain": [
       "HBox(children=(FloatProgress(value=0.0, description='Downloading', max=440473133.0, style=ProgressStyle(descri…"
      ]
     },
     "metadata": {
      "tags": []
     },
     "output_type": "display_data"
    },
    {
     "name": "stdout",
     "output_type": "stream",
     "text": [
      "\n"
     ]
    },
    {
     "name": "stderr",
     "output_type": "stream",
     "text": [
      "Some weights of the model checkpoint at bert-base-uncased were not used when initializing BertForSequenceClassification: ['cls.predictions.bias', 'cls.predictions.transform.dense.weight', 'cls.predictions.transform.dense.bias', 'cls.predictions.decoder.weight', 'cls.seq_relationship.weight', 'cls.seq_relationship.bias', 'cls.predictions.transform.LayerNorm.weight', 'cls.predictions.transform.LayerNorm.bias']\n",
      "- This IS expected if you are initializing BertForSequenceClassification from the checkpoint of a model trained on another task or with another architecture (e.g. initializing a BertForSequenceClassification model from a BertForPreTraining model).\n",
      "- This IS NOT expected if you are initializing BertForSequenceClassification from the checkpoint of a model that you expect to be exactly identical (initializing a BertForSequenceClassification model from a BertForSequenceClassification model).\n",
      "Some weights of BertForSequenceClassification were not initialized from the model checkpoint at bert-base-uncased and are newly initialized: ['classifier.weight', 'classifier.bias']\n",
      "You should probably TRAIN this model on a down-stream task to be able to use it for predictions and inference.\n"
     ]
    },
    {
     "data": {
      "text/html": [
       "\n",
       "    <div>\n",
       "        <style>\n",
       "            /* Turns off some styling */\n",
       "            progress {\n",
       "                /* gets rid of default border in Firefox and Opera. */\n",
       "                border: none;\n",
       "                /* Needs to be in here for Safari polyfill so background images work as expected. */\n",
       "                background-size: auto;\n",
       "            }\n",
       "        </style>\n",
       "      \n",
       "      <progress value='7500' max='7500' style='width:300px; height:20px; vertical-align: middle;'></progress>\n",
       "      [7500/7500 35:17, Epoch 2/2]\n",
       "    </div>\n",
       "    <table border=\"1\" class=\"dataframe\">\n",
       "  <thead>\n",
       "    <tr style=\"text-align: left;\">\n",
       "      <th>Step</th>\n",
       "      <th>Training Loss</th>\n",
       "    </tr>\n",
       "  </thead>\n",
       "  <tbody>\n",
       "    <tr>\n",
       "      <td>2000</td>\n",
       "      <td>1.030300</td>\n",
       "    </tr>\n",
       "    <tr>\n",
       "      <td>4000</td>\n",
       "      <td>0.547400</td>\n",
       "    </tr>\n",
       "    <tr>\n",
       "      <td>6000</td>\n",
       "      <td>0.417900</td>\n",
       "    </tr>\n",
       "  </tbody>\n",
       "</table><p>"
      ],
      "text/plain": [
       "<IPython.core.display.HTML object>"
      ]
     },
     "metadata": {
      "tags": []
     },
     "output_type": "display_data"
    },
    {
     "data": {
      "text/plain": [
       "TrainOutput(global_step=7500, training_loss=0.6144577229817708, metrics={'train_runtime': 2118.1129, 'train_samples_per_second': 3.541, 'total_flos': 1.2137048142712416e+16, 'epoch': 2.0, 'init_mem_cpu_alloc_delta': 334149, 'init_mem_gpu_alloc_delta': 439069184, 'init_mem_cpu_peaked_delta': 18306, 'init_mem_gpu_peaked_delta': 0, 'train_mem_cpu_alloc_delta': 980086, 'train_mem_gpu_alloc_delta': 1332421120, 'train_mem_cpu_peaked_delta': 99439401, 'train_mem_gpu_peaked_delta': 1916313600})"
      ]
     },
     "execution_count": 13,
     "metadata": {
      "tags": []
     },
     "output_type": "execute_result"
    }
   ],
   "source": [
    "# Fine Tuning with Trainer:\n",
    "from transformers import BertForSequenceClassification, Trainer, TrainingArguments\n",
    "\n",
    "training_args = TrainingArguments(\n",
    "    output_dir='./results',          # output directory\n",
    "    num_train_epochs=2,              # total number of training epochs\n",
    "    per_device_train_batch_size=32,  # batch size per device during training\n",
    "    per_device_eval_batch_size=64,   # batch size for evaluation\n",
    "    warmup_steps=500,                # number of warmup steps for learning rate scheduler\n",
    "    weight_decay=0.01,               # strength of weight decay\n",
    "    logging_dir='./logs',            # directory for storing logs\n",
    "    logging_steps=2000,\n",
    "    save_steps=2000,\n",
    ")\n",
    "\n",
    "model = BertForSequenceClassification.from_pretrained(\n",
    "    \"bert-base-uncased\", # Use the 12-layer BERT model, with an uncased vocab.\n",
    "    num_labels = 1, # multi-class rating regression prediction                  \n",
    "    output_attentions = False, # Whether the model returns attentions weights.\n",
    "    output_hidden_states = False, # Whether the model returns all hidden-states.\n",
    ")\n",
    "\n",
    "trainer = Trainer(\n",
    "    model=model,                         # the instantiated Huggingface Transformers model to be trained\n",
    "    args=training_args,                  # training arguments, defined above\n",
    "    train_dataset=train_dataset,         # training dataset\n",
    "    eval_dataset=val_dataset,             # evaluation dataset\n",
    ")\n",
    "trainer.train()"
   ]
  },
  {
   "cell_type": "markdown",
   "metadata": {
    "id": "yzJTS_lRjQve"
   },
   "source": [
    "After 2 epoches of training, the training loss converges."
   ]
  },
  {
   "cell_type": "code",
   "execution_count": 14,
   "metadata": {
    "id": "rvXH4MbyULhG"
   },
   "outputs": [],
   "source": [
    "from sklearn.metrics import mean_squared_error\n",
    "\n",
    "def compute_metrics(pred):\n",
    "    labels = pred.label_ids\n",
    "    preds = pred.predictions.argmax(-1)\n",
    "    mse = mean_squared_error(labels, preds)\n",
    "    return {'mse': mse}"
   ]
  },
  {
   "cell_type": "markdown",
   "metadata": {
    "id": "bTb2X8jqjQve"
   },
   "source": [
    "### Evaluation"
   ]
  },
  {
   "cell_type": "code",
   "execution_count": 15,
   "metadata": {
    "colab": {
     "base_uri": "https://localhost:8080/",
     "height": 241
    },
    "id": "uarm1ASNPa7M",
    "outputId": "64011447-1d2f-4103-9ebf-15cf25b0329c"
   },
   "outputs": [
    {
     "data": {
      "text/html": [
       "\n",
       "    <div>\n",
       "        <style>\n",
       "            /* Turns off some styling */\n",
       "            progress {\n",
       "                /* gets rid of default border in Firefox and Opera. */\n",
       "                border: none;\n",
       "                /* Needs to be in here for Safari polyfill so background images work as expected. */\n",
       "                background-size: auto;\n",
       "            }\n",
       "        </style>\n",
       "      \n",
       "      <progress value='469' max='469' style='width:300px; height:20px; vertical-align: middle;'></progress>\n",
       "      [469/469 00:53]\n",
       "    </div>\n",
       "    "
      ],
      "text/plain": [
       "<IPython.core.display.HTML object>"
      ]
     },
     "metadata": {
      "tags": []
     },
     "output_type": "display_data"
    },
    {
     "data": {
      "text/plain": [
       "{'eval_loss': 0.5076971650123596,\n",
       " 'eval_mem_cpu_alloc_delta': 429670,\n",
       " 'eval_mem_cpu_peaked_delta': 1056905,\n",
       " 'eval_mem_gpu_alloc_delta': 0,\n",
       " 'eval_mem_gpu_peaked_delta': 123737600,\n",
       " 'eval_mse': 12.617702950491749,\n",
       " 'eval_runtime': 53.6172,\n",
       " 'eval_samples_per_second': 559.429,\n",
       " 'init_mem_cpu_alloc_delta': 52786,\n",
       " 'init_mem_cpu_peaked_delta': 18306,\n",
       " 'init_mem_gpu_alloc_delta': 0,\n",
       " 'init_mem_gpu_peaked_delta': 0}"
      ]
     },
     "execution_count": 15,
     "metadata": {
      "tags": []
     },
     "output_type": "execute_result"
    }
   ],
   "source": [
    "# EVALUATION\n",
    "trainer = Trainer(\n",
    "    model=model,                         # the instantiated Huggingface Transformers model to be trained\n",
    "    args=training_args,                  # training arguments, defined above\n",
    "    train_dataset=train_dataset,         # training dataset\n",
    "    eval_dataset=val_dataset,             # evaluation dataset\n",
    "    compute_metrics=compute_metrics\n",
    ")\n",
    "\n",
    "\n",
    "trainer.evaluate()"
   ]
  },
  {
   "cell_type": "code",
   "execution_count": 16,
   "metadata": {
    "colab": {
     "base_uri": "https://localhost:8080/",
     "height": 156
    },
    "id": "fgrUzCTD2M0d",
    "outputId": "4da9d28e-76c7-45bc-ff17-8656ba84d408"
   },
   "outputs": [
    {
     "data": {
      "text/html": [
       "\n",
       "    <div>\n",
       "        <style>\n",
       "            /* Turns off some styling */\n",
       "            progress {\n",
       "                /* gets rid of default border in Firefox and Opera. */\n",
       "                border: none;\n",
       "                /* Needs to be in here for Safari polyfill so background images work as expected. */\n",
       "                background-size: auto;\n",
       "            }\n",
       "        </style>\n",
       "      \n",
       "      <progress value='469' max='469' style='width:300px; height:20px; vertical-align: middle;'></progress>\n",
       "      [469/469 00:53]\n",
       "    </div>\n",
       "    "
      ],
      "text/plain": [
       "<IPython.core.display.HTML object>"
      ]
     },
     "metadata": {
      "tags": []
     },
     "output_type": "display_data"
    },
    {
     "data": {
      "text/plain": [
       "array([[4.1039796],\n",
       "       [3.7151034],\n",
       "       [4.020349 ],\n",
       "       ...,\n",
       "       [2.8676999],\n",
       "       [4.0311675],\n",
       "       [3.9071004]], dtype=float32)"
      ]
     },
     "execution_count": 16,
     "metadata": {
      "tags": []
     },
     "output_type": "execute_result"
    }
   ],
   "source": [
    "trainer = Trainer(\n",
    "    model=model,                         # the instantiated Huggingface Transformers model to be trained\n",
    "    args=training_args,                  # training arguments, defined above\n",
    "    train_dataset=train_dataset,         # training dataset\n",
    "    eval_dataset=val_dataset,             # evaluation dataset\n",
    "    compute_metrics=compute_metrics\n",
    ")\n",
    "val_pred = trainer.predict(val_dataset)[0]\n",
    "val_pred"
   ]
  },
  {
   "cell_type": "code",
   "execution_count": 24,
   "metadata": {
    "colab": {
     "base_uri": "https://localhost:8080/"
    },
    "id": "t5XVWjzZQ-DI",
    "outputId": "ff812d4b-9b75-4a73-ae82-10d0155226b7"
   },
   "outputs": [
    {
     "name": "stdout",
     "output_type": "stream",
     "text": [
      "   val_label  val_pred  val_pred_int\n",
      "0        4.0  4.103980             4\n",
      "1        4.0  3.715103             4\n",
      "2        4.0  4.020349             4\n",
      "3        3.0  3.019607             3\n",
      "4        2.0  2.453848             2\n"
     ]
    }
   ],
   "source": [
    "val_df = pd.DataFrame(data=val_labels, columns=['val_label'])\n",
    "val_df.reset_index(inplace=True, drop=True)\n",
    "val_df['val_pred'] = pd.DataFrame(data=val_pred)\n",
    "val_df['val_pred_int'] = val_df['val_label'].astype(int)\n",
    "print(val_df.head())\n",
    "val_df.to_csv('val_data.csv', index=False)"
   ]
  },
  {
   "cell_type": "code",
   "execution_count": 3,
   "metadata": {
    "colab": {
     "base_uri": "https://localhost:8080/",
     "height": 265
    },
    "id": "F0hHrEOCz9YW",
    "outputId": "8392a718-b260-4f20-90c0-fb768b4fd2bc"
   },
   "outputs": [
    {
     "data": {
      "image/png": "[encoded data removed]",
      "text/plain": [
       "<Figure size 432x288 with 1 Axes>"
      ]
     },
     "metadata": {
      "needs_background": "light",
      "tags": []
     },
     "output_type": "display_data"
    }
   ],
   "source": [
    "import pandas as pd\n",
    "import matplotlib.pyplot as plt\n",
    "# plot the predicted value against actual label for validation set\n",
    "val_df = pd.read_csv('val_data.csv')\n",
    "val_df['val_label'] = val_df['val_label']+1\n",
    "val_df['val_pred'] = val_df['val_pred']+1\n",
    "val_df['val_pred_int'] = val_df['val_label'].astype(int)\n",
    "\n",
    "plt.hist(x=val_df['val_pred'], alpha=0.75)\n",
    "plt.hist(x=val_df['val_label'], alpha=0.75)\n",
    "plt.legend(['prediction','actual'])\n",
    "plt.show()"
   ]
  },
  {
   "cell_type": "code",
   "execution_count": 4,
   "metadata": {
    "colab": {
     "base_uri": "https://localhost:8080/",
     "height": 265
    },
    "id": "6Gyzq3qi1AqQ",
    "outputId": "e817aec3-5a93-4bab-fe9a-1421fbc41524"
   },
   "outputs": [
    {
     "data": {
      "image/png": "[encoded data removed]",
      "text/plain": [
       "<Figure size 432x288 with 1 Axes>"
      ]
     },
     "metadata": {
      "needs_background": "light",
      "tags": []
     },
     "output_type": "display_data"
    }
   ],
   "source": [
    "plt.hist(x=val_df['val_pred_int'], alpha=0.75)\n",
    "plt.hist(x=val_df['val_label'], alpha=0.75)\n",
    "\n",
    "plt.legend(['predicted_int','actual'])\n",
    "plt.show()"
   ]
  },
  {
   "cell_type": "markdown",
   "metadata": {
    "id": "QC5MkIQj45-9"
   },
   "source": [
    "### Test set preprocessing"
   ]
  },
  {
   "cell_type": "code",
   "execution_count": 49,
   "metadata": {
    "colab": {
     "base_uri": "https://localhost:8080/",
     "height": 255
    },
    "id": "stzXAB0kS21u",
    "outputId": "11089296-0f7d-4bfc-9344-93664099aa2d"
   },
   "outputs": [
    {
     "data": {
      "text/html": [
       "<div>\n",
       "<style scoped>\n",
       "    .dataframe tbody tr th:only-of-type {\n",
       "        vertical-align: middle;\n",
       "    }\n",
       "\n",
       "    .dataframe tbody tr th {\n",
       "        vertical-align: top;\n",
       "    }\n",
       "\n",
       "    .dataframe thead th {\n",
       "        text-align: right;\n",
       "    }\n",
       "</style>\n",
       "<table border=\"1\" class=\"dataframe\">\n",
       "  <thead>\n",
       "    <tr style=\"text-align: right;\">\n",
       "      <th></th>\n",
       "      <th>reviewTime</th>\n",
       "      <th>reviewerID</th>\n",
       "      <th>reviewText</th>\n",
       "      <th>summary</th>\n",
       "      <th>unixReviewTime</th>\n",
       "      <th>category</th>\n",
       "      <th>price</th>\n",
       "      <th>itemID</th>\n",
       "      <th>reviewHash</th>\n",
       "      <th>image</th>\n",
       "    </tr>\n",
       "  </thead>\n",
       "  <tbody>\n",
       "    <tr>\n",
       "      <th>0</th>\n",
       "      <td>02 11, 2017</td>\n",
       "      <td>u04140621</td>\n",
       "      <td>ok</td>\n",
       "      <td>Five Stars</td>\n",
       "      <td>1486771200</td>\n",
       "      <td>Pop</td>\n",
       "      <td>$31.20</td>\n",
       "      <td>p65721979</td>\n",
       "      <td>98944233</td>\n",
       "      <td>NaN</td>\n",
       "    </tr>\n",
       "    <tr>\n",
       "      <th>1</th>\n",
       "      <td>01 29, 2018</td>\n",
       "      <td>u74766187</td>\n",
       "      <td>The 1955 and 1958 sets alone are worth the pur...</td>\n",
       "      <td>Buy It For the 1955 Set With Monk!</td>\n",
       "      <td>1517184000</td>\n",
       "      <td>Jazz</td>\n",
       "      <td>$34.04</td>\n",
       "      <td>p87809670</td>\n",
       "      <td>33903910</td>\n",
       "      <td>NaN</td>\n",
       "    </tr>\n",
       "    <tr>\n",
       "      <th>2</th>\n",
       "      <td>08 29, 2005</td>\n",
       "      <td>u31689638</td>\n",
       "      <td>Mary J Blige is someone most people know of. S...</td>\n",
       "      <td>Mary's excellent debut! Classic!</td>\n",
       "      <td>1125273600</td>\n",
       "      <td>Pop</td>\n",
       "      <td>$1.72</td>\n",
       "      <td>p52702240</td>\n",
       "      <td>35386470</td>\n",
       "      <td>NaN</td>\n",
       "    </tr>\n",
       "    <tr>\n",
       "      <th>3</th>\n",
       "      <td>11 2, 2015</td>\n",
       "      <td>u35613516</td>\n",
       "      <td>Very good satch album</td>\n",
       "      <td>Four Stars</td>\n",
       "      <td>1446422400</td>\n",
       "      <td>Pop</td>\n",
       "      <td>$10.99</td>\n",
       "      <td>p01314374</td>\n",
       "      <td>12404766</td>\n",
       "      <td>NaN</td>\n",
       "    </tr>\n",
       "    <tr>\n",
       "      <th>4</th>\n",
       "      <td>01 3, 2012</td>\n",
       "      <td>u93320378</td>\n",
       "      <td>Well there are hundreds of Christmas anthologi...</td>\n",
       "      <td>CD lives up to its name</td>\n",
       "      <td>1325548800</td>\n",
       "      <td>Alternative Rock</td>\n",
       "      <td>$7.98</td>\n",
       "      <td>p84396269</td>\n",
       "      <td>68253688</td>\n",
       "      <td>NaN</td>\n",
       "    </tr>\n",
       "  </tbody>\n",
       "</table>\n",
       "</div>"
      ],
      "text/plain": [
       "    reviewTime reviewerID  ... reviewHash image\n",
       "0  02 11, 2017  u04140621  ...   98944233   NaN\n",
       "1  01 29, 2018  u74766187  ...   33903910   NaN\n",
       "2  08 29, 2005  u31689638  ...   35386470   NaN\n",
       "3   11 2, 2015  u35613516  ...   12404766   NaN\n",
       "4   01 3, 2012  u93320378  ...   68253688   NaN\n",
       "\n",
       "[5 rows x 10 columns]"
      ]
     },
     "execution_count": 49,
     "metadata": {
      "tags": []
     },
     "output_type": "execute_result"
    }
   ],
   "source": [
    "test_df = pd.read_csv('/test.csv')   # load the test set\n",
    "test_df.head()"
   ]
  },
  {
   "cell_type": "code",
   "execution_count": 50,
   "metadata": {
    "colab": {
     "base_uri": "https://localhost:8080/",
     "height": 173
    },
    "id": "IpYi73Ae4XdK",
    "outputId": "77a400ea-b2f6-4f09-ed85-5799afa25052"
   },
   "outputs": [
    {
     "data": {
      "text/html": [
       "<div>\n",
       "<style scoped>\n",
       "    .dataframe tbody tr th:only-of-type {\n",
       "        vertical-align: middle;\n",
       "    }\n",
       "\n",
       "    .dataframe tbody tr th {\n",
       "        vertical-align: top;\n",
       "    }\n",
       "\n",
       "    .dataframe thead th {\n",
       "        text-align: right;\n",
       "    }\n",
       "</style>\n",
       "<table border=\"1\" class=\"dataframe\">\n",
       "  <thead>\n",
       "    <tr style=\"text-align: right;\">\n",
       "      <th></th>\n",
       "      <th>reviewTime</th>\n",
       "      <th>reviewerID</th>\n",
       "      <th>reviewText</th>\n",
       "      <th>summary</th>\n",
       "      <th>unixReviewTime</th>\n",
       "      <th>category</th>\n",
       "      <th>price</th>\n",
       "      <th>itemID</th>\n",
       "      <th>reviewHash</th>\n",
       "      <th>image</th>\n",
       "    </tr>\n",
       "  </thead>\n",
       "  <tbody>\n",
       "    <tr>\n",
       "      <th>7888</th>\n",
       "      <td>02 23, 2018</td>\n",
       "      <td>u52398997</td>\n",
       "      <td>NaN</td>\n",
       "      <td>NaN</td>\n",
       "      <td>1519344000</td>\n",
       "      <td>Pop</td>\n",
       "      <td>$7.32</td>\n",
       "      <td>p64058590</td>\n",
       "      <td>64457564</td>\n",
       "      <td>NaN</td>\n",
       "    </tr>\n",
       "    <tr>\n",
       "      <th>9526</th>\n",
       "      <td>06 22, 2004</td>\n",
       "      <td>u25000049</td>\n",
       "      <td>This is by far more personal than YHF.  Slight...</td>\n",
       "      <td>NaN</td>\n",
       "      <td>1087862400</td>\n",
       "      <td>Alternative Rock</td>\n",
       "      <td>$11.97</td>\n",
       "      <td>p42229219</td>\n",
       "      <td>91234847</td>\n",
       "      <td>NaN</td>\n",
       "    </tr>\n",
       "    <tr>\n",
       "      <th>13015</th>\n",
       "      <td>03 1, 2015</td>\n",
       "      <td>u60876074</td>\n",
       "      <td>NaN</td>\n",
       "      <td>NaN</td>\n",
       "      <td>1425168000</td>\n",
       "      <td>Pop</td>\n",
       "      <td>$11.99</td>\n",
       "      <td>p27493690</td>\n",
       "      <td>81791504</td>\n",
       "      <td>NaN</td>\n",
       "    </tr>\n",
       "    <tr>\n",
       "      <th>16970</th>\n",
       "      <td>03 8, 2017</td>\n",
       "      <td>u24609876</td>\n",
       "      <td>Awesome</td>\n",
       "      <td>NaN</td>\n",
       "      <td>1488931200</td>\n",
       "      <td>Pop</td>\n",
       "      <td>$16.99</td>\n",
       "      <td>p58289362</td>\n",
       "      <td>48432559</td>\n",
       "      <td>NaN</td>\n",
       "    </tr>\n",
       "  </tbody>\n",
       "</table>\n",
       "</div>"
      ],
      "text/plain": [
       "        reviewTime reviewerID  ... reviewHash image\n",
       "7888   02 23, 2018  u52398997  ...   64457564   NaN\n",
       "9526   06 22, 2004  u25000049  ...   91234847   NaN\n",
       "13015   03 1, 2015  u60876074  ...   81791504   NaN\n",
       "16970   03 8, 2017  u24609876  ...   48432559   NaN\n",
       "\n",
       "[4 rows x 10 columns]"
      ]
     },
     "execution_count": 50,
     "metadata": {
      "tags": []
     },
     "output_type": "execute_result"
    }
   ],
   "source": [
    "test_df[test_df['summary'].isna()]    # check if there are any missing summary"
   ]
  },
  {
   "cell_type": "code",
   "execution_count": 51,
   "metadata": {
    "colab": {
     "base_uri": "https://localhost:8080/"
    },
    "id": "f8Q8-fbp4YQc",
    "outputId": "6aa59b14-f8d0-4454-d977-c7e09864b3ca"
   },
   "outputs": [
    {
     "data": {
      "text/plain": [
       "2"
      ]
     },
     "execution_count": 51,
     "metadata": {
      "tags": []
     },
     "output_type": "execute_result"
    }
   ],
   "source": [
    "# Replace missing summary with its corresponding reviewText\n",
    "test_df['summary'] = np.where(test_df['summary'].isna(), test_df['reviewText'], test_df['summary']) \n",
    "test_df['summary'].isna().sum()"
   ]
  },
  {
   "cell_type": "code",
   "execution_count": 52,
   "metadata": {
    "id": "IwfxcBgc8Im_"
   },
   "outputs": [],
   "source": [
    "# replace NaN in summary with empty string\n",
    "test_df['summary'] = test_df['summary'].fillna('')"
   ]
  },
  {
   "cell_type": "code",
   "execution_count": 53,
   "metadata": {
    "id": "JC-97BNO40au"
   },
   "outputs": [],
   "source": [
    "# Extract textual input feature 'summary' and convert to lowercase\n",
    "test_summ = test_df['summary'].values\n",
    "test_summ = test_summ.tolist()\n",
    "test_summ = [summ.lower() for summ in test_summ]"
   ]
  },
  {
   "cell_type": "code",
   "execution_count": 55,
   "metadata": {
    "colab": {
     "base_uri": "https://localhost:8080/"
    },
    "id": "rmpb97c_2_yr",
    "outputId": "7399f29d-478c-4aea-c90e-65a8f374f8da"
   },
   "outputs": [
    {
     "name": "stdout",
     "output_type": "stream",
     "text": [
      "Max summary length:  116\n"
     ]
    }
   ],
   "source": [
    "max_len = 0\n",
    "\n",
    "for summ in test_summ:\n",
    "\n",
    "    # Tokenize the text and add `[CLS]` and `[SEP]` tokens.\n",
    "    input_ids = tokenizer.encode(summ, add_special_tokens=True)\n",
    "\n",
    "    # Update the maximum sentence length.\n",
    "    max_len = max(max_len, len(input_ids))\n",
    "\n",
    "print('Max summary length: ', max_len)"
   ]
  },
  {
   "cell_type": "code",
   "execution_count": 56,
   "metadata": {
    "id": "qlxR0WgP6BpG"
   },
   "outputs": [],
   "source": [
    "# Tokenize textual summary for test set\n",
    "test_encodings = tokenizer(test_summ, truncation=True, padding=True)"
   ]
  },
  {
   "cell_type": "code",
   "execution_count": 58,
   "metadata": {
    "id": "kdcMeGMcPBBW"
   },
   "outputs": [],
   "source": [
    "test_index = test_df.index.values"
   ]
  },
  {
   "cell_type": "code",
   "execution_count": 59,
   "metadata": {
    "id": "2-5wnRG06T3d"
   },
   "outputs": [],
   "source": [
    "# Turn test set encodings into a Dataset object in Pytorch:\n",
    "import torch\n",
    "\n",
    "class AmazonDataset_test(torch.utils.data.Dataset):\n",
    "    def __init__(self, encodings, index):\n",
    "        self.encodings = encodings\n",
    "        self.index = index\n",
    "    def __getitem__(self, idx):\n",
    "        item = {key: torch.tensor(val[idx]) for key, val in self.encodings.items()}\n",
    "        return item\n",
    "    def __len__(self):\n",
    "      return len(self.index)\n",
    "test_dataset = AmazonDataset_test(test_encodings, test_index)\n"
   ]
  },
  {
   "cell_type": "code",
   "execution_count": 60,
   "metadata": {
    "colab": {
     "base_uri": "https://localhost:8080/"
    },
    "id": "YonTzOAnIJVE",
    "outputId": "e075667a-1391-495d-82d6-2520f8769320"
   },
   "outputs": [
    {
     "data": {
      "text/plain": [
       "20000"
      ]
     },
     "execution_count": 60,
     "metadata": {
      "tags": []
     },
     "output_type": "execute_result"
    }
   ],
   "source": [
    "len(test_dataset)"
   ]
  },
  {
   "cell_type": "markdown",
   "metadata": {
    "id": "ZhKsfn9B8hlM"
   },
   "source": [
    "### Predict the rating labels for test set"
   ]
  },
  {
   "cell_type": "code",
   "execution_count": 61,
   "metadata": {
    "colab": {
     "base_uri": "https://localhost:8080/",
     "height": 156
    },
    "id": "ljbRAH5g8nzO",
    "outputId": "0ff3cc7e-abc0-4b58-9687-370ca6bc8c31"
   },
   "outputs": [
    {
     "data": {
      "text/html": [
       "\n",
       "    <div>\n",
       "        <style>\n",
       "            /* Turns off some styling */\n",
       "            progress {\n",
       "                /* gets rid of default border in Firefox and Opera. */\n",
       "                border: none;\n",
       "                /* Needs to be in here for Safari polyfill so background images work as expected. */\n",
       "                background-size: auto;\n",
       "            }\n",
       "        </style>\n",
       "      \n",
       "      <progress value='313' max='313' style='width:300px; height:20px; vertical-align: middle;'></progress>\n",
       "      [313/313 00:36]\n",
       "    </div>\n",
       "    "
      ],
      "text/plain": [
       "<IPython.core.display.HTML object>"
      ]
     },
     "metadata": {
      "tags": []
     },
     "output_type": "display_data"
    },
    {
     "data": {
      "text/plain": [
       "array([[4.1240745],\n",
       "       [3.8872337],\n",
       "       [4.015919 ],\n",
       "       ...,\n",
       "       [3.9370584],\n",
       "       [4.0231037],\n",
       "       [3.6393206]], dtype=float32)"
      ]
     },
     "execution_count": 61,
     "metadata": {
      "tags": []
     },
     "output_type": "execute_result"
    }
   ],
   "source": [
    "# PREDICTION\n",
    "trainer = Trainer(\n",
    "    model=model,                         # the instantiated Huggingface Transformers model to be trained\n",
    "    args=training_args,                  # training arguments, defined above\n",
    "    train_dataset=train_dataset,         # training dataset\n",
    "    eval_dataset=val_dataset,             # evaluation dataset\n",
    ")\n",
    "\n",
    "\n",
    "predictions = trainer.predict(test_dataset)[0]\n",
    "predictions"
   ]
  },
  {
   "cell_type": "code",
   "execution_count": 62,
   "metadata": {
    "colab": {
     "base_uri": "https://localhost:8080/"
    },
    "id": "d8EEIyg0H38J",
    "outputId": "e2d2bb2e-98ae-477c-853f-6659d0aa4bab"
   },
   "outputs": [
    {
     "data": {
      "text/plain": [
       "(20000, 1)"
      ]
     },
     "execution_count": 62,
     "metadata": {
      "tags": []
     },
     "output_type": "execute_result"
    }
   ],
   "source": [
    "predictions.shape\n"
   ]
  },
  {
   "cell_type": "code",
   "execution_count": 64,
   "metadata": {
    "colab": {
     "base_uri": "https://localhost:8080/",
     "height": 255
    },
    "id": "ya1UeO37q2Oz",
    "outputId": "139f46dc-ebda-4d03-e676-357cd41b6853"
   },
   "outputs": [
    {
     "data": {
      "text/html": [
       "<div>\n",
       "<style scoped>\n",
       "    .dataframe tbody tr th:only-of-type {\n",
       "        vertical-align: middle;\n",
       "    }\n",
       "\n",
       "    .dataframe tbody tr th {\n",
       "        vertical-align: top;\n",
       "    }\n",
       "\n",
       "    .dataframe thead th {\n",
       "        text-align: right;\n",
       "    }\n",
       "</style>\n",
       "<table border=\"1\" class=\"dataframe\">\n",
       "  <thead>\n",
       "    <tr style=\"text-align: right;\">\n",
       "      <th></th>\n",
       "      <th>reviewTime</th>\n",
       "      <th>reviewerID</th>\n",
       "      <th>reviewText</th>\n",
       "      <th>summary</th>\n",
       "      <th>unixReviewTime</th>\n",
       "      <th>category</th>\n",
       "      <th>price</th>\n",
       "      <th>itemID</th>\n",
       "      <th>reviewHash</th>\n",
       "      <th>image</th>\n",
       "      <th>prediction</th>\n",
       "    </tr>\n",
       "  </thead>\n",
       "  <tbody>\n",
       "    <tr>\n",
       "      <th>0</th>\n",
       "      <td>02 11, 2017</td>\n",
       "      <td>u04140621</td>\n",
       "      <td>ok</td>\n",
       "      <td>Five Stars</td>\n",
       "      <td>1486771200</td>\n",
       "      <td>Pop</td>\n",
       "      <td>$31.20</td>\n",
       "      <td>p65721979</td>\n",
       "      <td>98944233</td>\n",
       "      <td>NaN</td>\n",
       "      <td>4.124074</td>\n",
       "    </tr>\n",
       "    <tr>\n",
       "      <th>1</th>\n",
       "      <td>01 29, 2018</td>\n",
       "      <td>u74766187</td>\n",
       "      <td>The 1955 and 1958 sets alone are worth the pur...</td>\n",
       "      <td>Buy It For the 1955 Set With Monk!</td>\n",
       "      <td>1517184000</td>\n",
       "      <td>Jazz</td>\n",
       "      <td>$34.04</td>\n",
       "      <td>p87809670</td>\n",
       "      <td>33903910</td>\n",
       "      <td>NaN</td>\n",
       "      <td>3.887234</td>\n",
       "    </tr>\n",
       "    <tr>\n",
       "      <th>2</th>\n",
       "      <td>08 29, 2005</td>\n",
       "      <td>u31689638</td>\n",
       "      <td>Mary J Blige is someone most people know of. S...</td>\n",
       "      <td>Mary's excellent debut! Classic!</td>\n",
       "      <td>1125273600</td>\n",
       "      <td>Pop</td>\n",
       "      <td>$1.72</td>\n",
       "      <td>p52702240</td>\n",
       "      <td>35386470</td>\n",
       "      <td>NaN</td>\n",
       "      <td>4.015919</td>\n",
       "    </tr>\n",
       "    <tr>\n",
       "      <th>3</th>\n",
       "      <td>11 2, 2015</td>\n",
       "      <td>u35613516</td>\n",
       "      <td>Very good satch album</td>\n",
       "      <td>Four Stars</td>\n",
       "      <td>1446422400</td>\n",
       "      <td>Pop</td>\n",
       "      <td>$10.99</td>\n",
       "      <td>p01314374</td>\n",
       "      <td>12404766</td>\n",
       "      <td>NaN</td>\n",
       "      <td>3.087710</td>\n",
       "    </tr>\n",
       "    <tr>\n",
       "      <th>4</th>\n",
       "      <td>01 3, 2012</td>\n",
       "      <td>u93320378</td>\n",
       "      <td>Well there are hundreds of Christmas anthologi...</td>\n",
       "      <td>CD lives up to its name</td>\n",
       "      <td>1325548800</td>\n",
       "      <td>Alternative Rock</td>\n",
       "      <td>$7.98</td>\n",
       "      <td>p84396269</td>\n",
       "      <td>68253688</td>\n",
       "      <td>NaN</td>\n",
       "      <td>3.870686</td>\n",
       "    </tr>\n",
       "  </tbody>\n",
       "</table>\n",
       "</div>"
      ],
      "text/plain": [
       "    reviewTime reviewerID  ... image prediction\n",
       "0  02 11, 2017  u04140621  ...   NaN   4.124074\n",
       "1  01 29, 2018  u74766187  ...   NaN   3.887234\n",
       "2  08 29, 2005  u31689638  ...   NaN   4.015919\n",
       "3   11 2, 2015  u35613516  ...   NaN   3.087710\n",
       "4   01 3, 2012  u93320378  ...   NaN   3.870686\n",
       "\n",
       "[5 rows x 11 columns]"
      ]
     },
     "execution_count": 64,
     "metadata": {
      "tags": []
     },
     "output_type": "execute_result"
    }
   ],
   "source": [
    "test_df['prediction'] = predictions\n",
    "test_df.head()"
   ]
  },
  {
   "cell_type": "code",
   "execution_count": null,
   "metadata": {
    "id": "tMFUr11qkLIL"
   },
   "outputs": [],
   "source": [
    "test_df['7888']"
   ]
  },
  {
   "cell_type": "code",
   "execution_count": 65,
   "metadata": {
    "colab": {
     "base_uri": "https://localhost:8080/"
    },
    "id": "NeuQ489KwRoE",
    "outputId": "991865a4-0897-4010-c540-af55bf522632"
   },
   "outputs": [
    {
     "data": {
      "text/plain": [
       "3.8872337"
      ]
     },
     "execution_count": 65,
     "metadata": {
      "tags": []
     },
     "output_type": "execute_result"
    }
   ],
   "source": [
    "predictions[1][0]"
   ]
  },
  {
   "cell_type": "code",
   "execution_count": 66,
   "metadata": {
    "colab": {
     "base_uri": "https://localhost:8080/"
    },
    "id": "iNuMa0_0wt8U",
    "outputId": "585afb69-7ae7-4e96-e3bb-0d2dc32d323f"
   },
   "outputs": [
    {
     "data": {
      "text/plain": [
       "[4.1240745,\n",
       " 3.8872337,\n",
       " 4.015919,\n",
       " 3.0877101,\n",
       " 3.8706863,\n",
       " 3.9227552,\n",
       " 3.8359382,\n",
       " 3.4686313,\n",
       " 3.6822338,\n",
       " 3.841103,\n",
       " 4.1240745,\n",
       " 3.8444548,\n",
       " 3.7359347,\n",
       " 2.9385936,\n",
       " 3.3710132,\n",
       " 3.6144552,\n",
       " 3.097591,\n",
       " 1.5009,\n",
       " 3.4412367,\n",
       " 3.913838,\n",
       " 4.027939,\n",
       " 3.9241257,\n",
       " 4.048945,\n",
       " 3.8699174,\n",
       " 3.7235622,\n",
       " 2.3569741,\n",
       " 3.7265668,\n",
       " 3.4264963,\n",
       " 4.0160694,\n",
       " 3.9838128,\n",
       " 3.7083101,\n",
       " 3.42086,\n",
       " 4.047756,\n",
       " 3.4993064,\n",
       " 3.9709196,\n",
       " 4.1240745,\n",
       " 3.9228733,\n",
       " 3.5439973,\n",
       " 3.9947543,\n",
       " 3.7751555,\n",
       " 3.9693189,\n",
       " 3.8640842,\n",
       " 3.8313382,\n",
       " 4.081412,\n",
       " 4.0392203,\n",
       " 3.69243,\n",
       " 3.9355884,\n",
       " 1.8148257,\n",
       " 4.005468,\n",
       " 4.0122614,\n",
       " 4.028629,\n",
       " 3.9873424,\n",
       " 3.4517665,\n",
       " 4.1240745,\n",
       " 3.6643672,\n",
       " 4.002091,\n",
       " 3.61878,\n",
       " 3.91685,\n",
       " 3.566455,\n",
       " 3.6639268,\n",
       " 4.0526123,\n",
       " 3.630549,\n",
       " 4.067557,\n",
       " 3.6336176,\n",
       " 4.0142274,\n",
       " 0.49525568,\n",
       " 4.1240745,\n",
       " 3.2562943,\n",
       " 0.1667604,\n",
       " 3.7672837,\n",
       " 4.0419464,\n",
       " 4.1240745,\n",
       " 3.4286978,\n",
       " 2.9759285,\n",
       " 3.9852767,\n",
       " 4.1240745,\n",
       " 4.1240745,\n",
       " 4.012345,\n",
       " 2.4785998,\n",
       " 4.1240745,\n",
       " 0.50412995,\n",
       " 3.6587338,\n",
       " 3.7172093,\n",
       " 4.0484047,\n",
       " 3.5957403,\n",
       " 3.9810977,\n",
       " 3.1909091,\n",
       " 3.8230991,\n",
       " 3.932715,\n",
       " 4.0132627,\n",
       " 4.0517774,\n",
       " 3.8977542,\n",
       " 3.7254307,\n",
       " 4.0628867,\n",
       " 1.6786468,\n",
       " 1.4022727,\n",
       " 3.5455263,\n",
       " 3.9549055,\n",
       " 3.8163254,\n",
       " 1.1351928,\n",
       " 3.5822499,\n",
       " 0.62631947,\n",
       " 4.058468,\n",
       " 3.5555177,\n",
       " 4.074686,\n",
       " 3.9906464,\n",
       " 3.52973,\n",
       " 4.1240745,\n",
       " 1.440001,\n",
       " 2.155359,\n",
       " 4.015588,\n",
       " 3.4470992,\n",
       " 3.5206542,\n",
       " 3.8724964,\n",
       " 4.1240745,\n",
       " 3.8376598,\n",
       " 3.5980558,\n",
       " 4.0613546,\n",
       " 3.983132,\n",
       " 2.8140504,\n",
       " 3.831043,\n",
       " 3.343933,\n",
       " 0.38525215,\n",
       " 3.9682148,\n",
       " 3.9865277,\n",
       " 3.8853674,\n",
       " 3.3900597,\n",
       " 4.02275,\n",
       " 3.0089126,\n",
       " 3.9940982,\n",
       " 1.7385272,\n",
       " 4.1240745,\n",
       " 3.8881562,\n",
       " 4.1240745,\n",
       " 3.7924886,\n",
       " 3.3722758,\n",
       " 3.9773726,\n",
       " 3.380045,\n",
       " 4.1240745,\n",
       " 4.055272,\n",
       " 3.8749053,\n",
       " 3.9497783,\n",
       " 4.1240745,\n",
       " 3.5320754,\n",
       " 2.2094648,\n",
       " 4.1240745,\n",
       " 1.0474502,\n",
       " 3.8502448,\n",
       " 3.9045875,\n",
       " 1.9696655,\n",
       " 2.305325,\n",
       " 3.9730513,\n",
       " 3.9588017,\n",
       " 3.599387,\n",
       " 4.0176477,\n",
       " 4.0087514,\n",
       " 3.3242538,\n",
       " 3.1790948,\n",
       " 4.03301,\n",
       " 4.1240745,\n",
       " 4.000427,\n",
       " 3.6557097,\n",
       " 3.0997944,\n",
       " 3.435909,\n",
       " 3.848991,\n",
       " 2.981023,\n",
       " 3.4300249,\n",
       " 3.373364,\n",
       " 4.1240745,\n",
       " 3.068829,\n",
       " 3.9133947,\n",
       " 4.0283246,\n",
       " 2.9378514,\n",
       " 4.0587664,\n",
       " 3.8037314,\n",
       " 4.0381083,\n",
       " 3.9266934,\n",
       " 3.8920646,\n",
       " 4.1240745,\n",
       " 3.0877101,\n",
       " 3.6580763,\n",
       " 3.9294133,\n",
       " 3.2660038,\n",
       " 3.9686847,\n",
       " 3.6789258,\n",
       " 4.0097027,\n",
       " 3.8642998,\n",
       " 3.4742236,\n",
       " 2.2991133,\n",
       " 2.6164203,\n",
       " 3.7995932,\n",
       " 3.733783,\n",
       " 4.1240745,\n",
       " 3.959672,\n",
       " 3.9541159,\n",
       " 2.3595548,\n",
       " 2.0730252,\n",
       " 3.4479795,\n",
       " 3.9720013,\n",
       " 1.73882,\n",
       " 3.8411653,\n",
       " 4.1240745,\n",
       " 1.5623571,\n",
       " 2.5282912,\n",
       " 3.7269824,\n",
       " 3.6677296,\n",
       " 2.2081473,\n",
       " 4.052203,\n",
       " 3.4361117,\n",
       " 4.0481777,\n",
       " 3.5551476,\n",
       " 3.9203377,\n",
       " 3.8766208,\n",
       " 4.006322,\n",
       " 3.8410764,\n",
       " 3.797831,\n",
       " 3.9600406,\n",
       " 3.9459834,\n",
       " 4.052057,\n",
       " 4.1240745,\n",
       " 3.0037901,\n",
       " 3.9670422,\n",
       " 2.015229,\n",
       " 2.4437687,\n",
       " 0.84943885,\n",
       " 3.560053,\n",
       " 3.2153692,\n",
       " 3.9067676,\n",
       " 2.2377026,\n",
       " 0.35036793,\n",
       " 3.9510036,\n",
       " 3.5377526,\n",
       " 3.9680424,\n",
       " 0.83979166,\n",
       " 2.015229,\n",
       " 0.61936766,\n",
       " 3.659501,\n",
       " 3.6183987,\n",
       " 4.1240745,\n",
       " 3.7678251,\n",
       " 4.1240745,\n",
       " 3.9820614,\n",
       " 3.7927732,\n",
       " 2.610631,\n",
       " 3.994533,\n",
       " 4.0468054,\n",
       " 4.1240745,\n",
       " 4.038552,\n",
       " 3.8983018,\n",
       " 3.998873,\n",
       " 3.904059,\n",
       " 4.036915,\n",
       " 3.9935198,\n",
       " 3.6317039,\n",
       " 3.04376,\n",
       " 4.04726,\n",
       " 4.1240745,\n",
       " 4.032139,\n",
       " 3.868313,\n",
       " 3.9281974,\n",
       " 3.9784746,\n",
       " 3.8439088,\n",
       " 1.0474502,\n",
       " 0.32515267,\n",
       " 2.015229,\n",
       " 3.929088,\n",
       " 3.996137,\n",
       " 2.015229,\n",
       " 3.9979877,\n",
       " 3.8425674,\n",
       " 2.7575088,\n",
       " 4.0378766,\n",
       " 4.1240745,\n",
       " 3.8258758,\n",
       " 3.4512155,\n",
       " 4.052203,\n",
       " 3.3530836,\n",
       " 3.272063,\n",
       " 4.0595064,\n",
       " 4.1240745,\n",
       " 3.8394964,\n",
       " 2.5275736,\n",
       " 4.1240745,\n",
       " 0.7219801,\n",
       " 1.0390304,\n",
       " 4.0150576,\n",
       " 3.4976025,\n",
       " 1.0214826,\n",
       " 4.1240745,\n",
       " 3.5576465,\n",
       " 3.9227552,\n",
       " 3.956823,\n",
       " 3.0877101,\n",
       " 3.5590496,\n",
       " 3.9246268,\n",
       " 3.6079614,\n",
       " 2.9558675,\n",
       " 4.1240745,\n",
       " 1.3729603,\n",
       " 4.020156,\n",
       " 0.50407296,\n",
       " 4.010828,\n",
       " 3.7297454,\n",
       " 3.911294,\n",
       " 3.559043,\n",
       " 4.1240745,\n",
       " 3.6517377,\n",
       " 2.015229,\n",
       " 3.94037,\n",
       " 4.0507703,\n",
       " 0.5183379,\n",
       " 4.013195,\n",
       " 3.1125576,\n",
       " 4.016653,\n",
       " 3.7217772,\n",
       " 4.048175,\n",
       " 3.1384652,\n",
       " 3.490468,\n",
       " 2.1351545,\n",
       " 3.9591658,\n",
       " 3.3522377,\n",
       " 4.0392203,\n",
       " 4.0276093,\n",
       " 2.6194482,\n",
       " 3.8453436,\n",
       " 0.97136194,\n",
       " 3.2145875,\n",
       " 4.049004,\n",
       " 2.447044,\n",
       " 3.977603,\n",
       " 3.9901717,\n",
       " 3.8351746,\n",
       " 4.0201473,\n",
       " 1.767609,\n",
       " 3.8934026,\n",
       " 3.182087,\n",
       " 1.8805122,\n",
       " 3.3268874,\n",
       " 4.0440784,\n",
       " 4.0558248,\n",
       " 4.013195,\n",
       " 3.917698,\n",
       " 3.9237962,\n",
       " 4.0037584,\n",
       " 3.8633947,\n",
       " 3.9738567,\n",
       " 4.1240745,\n",
       " 3.94758,\n",
       " 4.019939,\n",
       " 4.1240745,\n",
       " 4.0166683,\n",
       " 3.9961894,\n",
       " 4.1240745,\n",
       " 0.1667604,\n",
       " 2.8536382,\n",
       " 4.0842023,\n",
       " 3.9113736,\n",
       " 3.0877101,\n",
       " 3.9105244,\n",
       " 4.019926,\n",
       " 2.1422265,\n",
       " 4.1240745,\n",
       " 2.6008677,\n",
       " 3.2320192,\n",
       " 3.98014,\n",
       " 3.6566224,\n",
       " 3.6033337,\n",
       " 3.679193,\n",
       " 2.189738,\n",
       " 4.063675,\n",
       " 3.5993187,\n",
       " 3.4957185,\n",
       " 4.1240745,\n",
       " 3.8801455,\n",
       " 3.609501,\n",
       " 4.0356,\n",
       " 1.4273683,\n",
       " 3.3485177,\n",
       " 3.910931,\n",
       " 3.2216263,\n",
       " 1.1088592,\n",
       " 3.9950094,\n",
       " 3.654459,\n",
       " 4.1240745,\n",
       " 3.349941,\n",
       " 3.8643541,\n",
       " 3.6519074,\n",
       " 3.635099,\n",
       " 1.3827565,\n",
       " 3.424328,\n",
       " 3.6812654,\n",
       " 3.2901797,\n",
       " 3.194449,\n",
       " 3.9798155,\n",
       " 1.9080575,\n",
       " 2.5783885,\n",
       " 3.035922,\n",
       " 4.0263352,\n",
       " 1.2991627,\n",
       " 2.806567,\n",
       " 3.5043957,\n",
       " 3.7119384,\n",
       " 3.9586105,\n",
       " 3.0877101,\n",
       " 3.5397992,\n",
       " 3.0877101,\n",
       " 3.9477684,\n",
       " 3.4037373,\n",
       " 3.917777,\n",
       " 3.9821866,\n",
       " 4.012162,\n",
       " 4.037044,\n",
       " 4.0644417,\n",
       " 3.2731633,\n",
       " 2.7722878,\n",
       " 3.9650598,\n",
       " 3.4600575,\n",
       " 1.6965059,\n",
       " 1.3295687,\n",
       " 1.6015793,\n",
       " 3.7367287,\n",
       " 3.9832363,\n",
       " 4.0676994,\n",
       " 1.0898374,\n",
       " 2.499239,\n",
       " 3.874807,\n",
       " 4.1240745,\n",
       " 3.922346,\n",
       " 3.99807,\n",
       " 3.3716743,\n",
       " 3.9692934,\n",
       " 0.58585054,\n",
       " 3.5608935,\n",
       " 3.9496565,\n",
       " 3.2132642,\n",
       " 3.0504906,\n",
       " 4.1240745,\n",
       " 4.073484,\n",
       " 4.1240745,\n",
       " 4.1240745,\n",
       " 2.7536447,\n",
       " 3.933625,\n",
       " 4.1240745,\n",
       " 3.6480885,\n",
       " 3.978565,\n",
       " 3.9377155,\n",
       " 3.0877101,\n",
       " 3.80495,\n",
       " 4.1240745,\n",
       " 3.5096693,\n",
       " 3.9414606,\n",
       " 3.924953,\n",
       " 3.798304,\n",
       " 1.5665866,\n",
       " 4.1240745,\n",
       " 3.7741363,\n",
       " 3.0118227,\n",
       " 0.72029376,\n",
       " 3.8677268,\n",
       " 3.847388,\n",
       " 3.931577,\n",
       " 3.91939,\n",
       " 4.1240745,\n",
       " 3.9812877,\n",
       " 2.5901906,\n",
       " 2.3532908,\n",
       " 3.9260845,\n",
       " 3.299835,\n",
       " 3.7953224,\n",
       " 3.8823333,\n",
       " 3.8403609,\n",
       " 3.8541288,\n",
       " 4.1240745,\n",
       " 3.6752398,\n",
       " 4.1240745,\n",
       " 1.8546237,\n",
       " 3.5402672,\n",
       " 1.6574353,\n",
       " 1.6789058,\n",
       " 3.058117,\n",
       " 4.047844,\n",
       " 4.0310555,\n",
       " 3.6358433,\n",
       " 3.9119823,\n",
       " 3.9472334,\n",
       " 3.9364963,\n",
       " 4.1240745,\n",
       " 2.1538823,\n",
       " 3.9607701,\n",
       " 2.015229,\n",
       " 3.7248387,\n",
       " 3.6327047,\n",
       " 1.6820644,\n",
       " 4.0640774,\n",
       " 3.6246047,\n",
       " 3.895245,\n",
       " 1.7784786,\n",
       " 3.9050772,\n",
       " 4.1240745,\n",
       " 3.862866,\n",
       " 3.7797759,\n",
       " 4.0344977,\n",
       " 3.0470266,\n",
       " 3.2551608,\n",
       " 4.06155,\n",
       " 3.175658,\n",
       " 4.1240745,\n",
       " 1.6101594,\n",
       " 1.6924384,\n",
       " 3.7921934,\n",
       " 0.36759788,\n",
       " 3.5826786,\n",
       " 1.1920434,\n",
       " 4.0361557,\n",
       " 1.8529583,\n",
       " 3.6318955,\n",
       " 2.108676,\n",
       " 4.037533,\n",
       " 3.9346519,\n",
       " 3.5993187,\n",
       " 3.9470189,\n",
       " 4.0062575,\n",
       " 4.0243683,\n",
       " 3.5490813,\n",
       " 3.9999835,\n",
       " 3.6897845,\n",
       " 3.9856594,\n",
       " 3.8348153,\n",
       " 3.7409408,\n",
       " 3.388654,\n",
       " 3.7861311,\n",
       " 4.1240745,\n",
       " 3.6501899,\n",
       " 4.0148196,\n",
       " 3.947642,\n",
       " 3.71945,\n",
       " 4.044496,\n",
       " 3.5574563,\n",
       " 4.037854,\n",
       " 4.0289545,\n",
       " 3.8720834,\n",
       " 3.2107797,\n",
       " 2.015229,\n",
       " 3.9706333,\n",
       " 2.156493,\n",
       " 3.8973231,\n",
       " 3.2130902,\n",
       " 4.1240745,\n",
       " 3.333066,\n",
       " 3.7596028,\n",
       " 3.7486613,\n",
       " 4.1240745,\n",
       " 3.307078,\n",
       " 4.1240745,\n",
       " 2.6795893,\n",
       " 4.1240745,\n",
       " 3.8136768,\n",
       " 4.0197406,\n",
       " 4.0443616,\n",
       " 3.9774828,\n",
       " 3.6167223,\n",
       " 3.575891,\n",
       " 2.094009,\n",
       " 0.55171037,\n",
       " 3.9901729,\n",
       " 3.9054174,\n",
       " 3.0193937,\n",
       " 3.6805367,\n",
       " 3.8955772,\n",
       " 4.063723,\n",
       " 1.8657136,\n",
       " 3.904491,\n",
       " 3.995058,\n",
       " 3.7573092,\n",
       " 4.1240745,\n",
       " 3.9992754,\n",
       " 3.2872093,\n",
       " 3.541759,\n",
       " 3.7408094,\n",
       " 3.6644619,\n",
       " 1.334525,\n",
       " 4.1240745,\n",
       " 3.9429743,\n",
       " 1.8577229,\n",
       " 4.1240745,\n",
       " 3.748273,\n",
       " 4.1240745,\n",
       " 1.3223697,\n",
       " 2.8277202,\n",
       " 3.8746557,\n",
       " 4.0358834,\n",
       " 3.891216,\n",
       " 3.8484428,\n",
       " 3.6626065,\n",
       " 3.9236188,\n",
       " 4.0594664,\n",
       " 3.9563913,\n",
       " 3.8976011,\n",
       " 4.0503364,\n",
       " 4.040313,\n",
       " 3.230331,\n",
       " 3.9282556,\n",
       " 4.1240745,\n",
       " 2.6857262,\n",
       " 0.9703658,\n",
       " 1.4002749,\n",
       " 3.3247983,\n",
       " 4.1240745,\n",
       " 3.616888,\n",
       " 3.8232038,\n",
       " 4.1240745,\n",
       " 3.9255235,\n",
       " 1.2654282,\n",
       " 4.1240745,\n",
       " 3.9953277,\n",
       " 4.1240745,\n",
       " 3.4251575,\n",
       " 4.1240745,\n",
       " 2.1220944,\n",
       " 1.2851272,\n",
       " 3.8457065,\n",
       " 3.6733973,\n",
       " 4.0332146,\n",
       " 3.1753879,\n",
       " 4.0802217,\n",
       " 3.8585987,\n",
       " 4.013195,\n",
       " 3.644085,\n",
       " 1.2592586,\n",
       " 4.1240745,\n",
       " 1.5850431,\n",
       " 3.8405693,\n",
       " 4.059895,\n",
       " 2.727175,\n",
       " 3.6405966,\n",
       " 4.1240745,\n",
       " 3.9764998,\n",
       " 4.013195,\n",
       " 3.7655516,\n",
       " 2.156043,\n",
       " 3.8796427,\n",
       " 3.0877101,\n",
       " 4.1240745,\n",
       " 3.616888,\n",
       " 4.0498757,\n",
       " 3.4825766,\n",
       " 3.8713164,\n",
       " 4.0140705,\n",
       " 4.043582,\n",
       " 4.0070677,\n",
       " 3.2008934,\n",
       " 3.6928525,\n",
       " 2.6345377,\n",
       " 4.0235715,\n",
       " 3.2107797,\n",
       " 3.3603997,\n",
       " 4.025226,\n",
       " 3.7083101,\n",
       " 3.5426464,\n",
       " 4.1240745,\n",
       " 3.561393,\n",
       " 3.7124639,\n",
       " 4.0447636,\n",
       " 3.7902951,\n",
       " 3.6681917,\n",
       " 3.4622054,\n",
       " 1.3328097,\n",
       " 4.0323224,\n",
       " 3.8976414,\n",
       " 3.9332044,\n",
       " 4.0140333,\n",
       " 3.9990466,\n",
       " 3.8100936,\n",
       " 3.7802777,\n",
       " 2.5128844,\n",
       " 4.1240745,\n",
       " 3.901218,\n",
       " 2.0103097,\n",
       " 4.0024214,\n",
       " 2.6709433,\n",
       " 2.7378504,\n",
       " 4.1240745,\n",
       " 4.024932,\n",
       " 3.931043,\n",
       " 0.40775448,\n",
       " 4.1240745,\n",
       " 3.8791652,\n",
       " 4.005226,\n",
       " 4.0350785,\n",
       " 3.9762561,\n",
       " 4.0605397,\n",
       " 3.903832,\n",
       " 2.9237595,\n",
       " 2.6807437,\n",
       " 3.5206542,\n",
       " 3.9431496,\n",
       " 3.9963536,\n",
       " 4.0243297,\n",
       " 2.715815,\n",
       " 3.0877101,\n",
       " 4.1240745,\n",
       " 3.9396734,\n",
       " 4.1240745,\n",
       " 3.855581,\n",
       " 0.9689605,\n",
       " 3.9158173,\n",
       " 2.015229,\n",
       " 3.5871544,\n",
       " 4.044017,\n",
       " 3.5353081,\n",
       " 4.0029087,\n",
       " 4.1240745,\n",
       " 1.2084097,\n",
       " 4.016575,\n",
       " 3.991111,\n",
       " 4.045774,\n",
       " 4.1240745,\n",
       " 4.1240745,\n",
       " 3.9384422,\n",
       " 3.7775204,\n",
       " 3.062497,\n",
       " 3.905737,\n",
       " 1.3782306,\n",
       " 3.9373171,\n",
       " 3.9359279,\n",
       " 3.929874,\n",
       " 4.1240745,\n",
       " 3.9175158,\n",
       " 4.1240745,\n",
       " 3.9749446,\n",
       " 0.4969996,\n",
       " 4.1240745,\n",
       " 1.1938813,\n",
       " 4.1240745,\n",
       " 4.1240745,\n",
       " 4.059895,\n",
       " 3.919798,\n",
       " 3.8612797,\n",
       " 4.1240745,\n",
       " 3.4068105,\n",
       " 3.7376943,\n",
       " 3.9418604,\n",
       " 4.1240745,\n",
       " 3.7283165,\n",
       " 3.9924574,\n",
       " 3.956905,\n",
       " 4.051349,\n",
       " 2.8308537,\n",
       " 4.015069,\n",
       " 3.27929,\n",
       " 3.4850826,\n",
       " 3.899765,\n",
       " 3.959617,\n",
       " 4.1240745,\n",
       " 3.9117002,\n",
       " 1.8645792,\n",
       " 3.7617924,\n",
       " 2.6146653,\n",
       " 4.1240745,\n",
       " 3.8103607,\n",
       " 3.8318696,\n",
       " 3.658108,\n",
       " 3.550388,\n",
       " 4.05715,\n",
       " 4.1240745,\n",
       " 3.6787865,\n",
       " 2.0900466,\n",
       " 3.9719677,\n",
       " 3.715807,\n",
       " 3.005128,\n",
       " 4.0310555,\n",
       " 3.9459012,\n",
       " 4.036834,\n",
       " 3.996424,\n",
       " 3.6328866,\n",
       " 4.0323467,\n",
       " 3.9205017,\n",
       " 3.722108,\n",
       " 3.9386618,\n",
       " 3.910973,\n",
       " 3.7105112,\n",
       " 4.1240745,\n",
       " 4.006551,\n",
       " 3.8957767,\n",
       " 4.022647,\n",
       " 4.010414,\n",
       " 3.5968788,\n",
       " 2.7990181,\n",
       " 4.010414,\n",
       " 3.6332502,\n",
       " 3.9964743,\n",
       " 3.9335265,\n",
       " 3.9861376,\n",
       " 3.7638946,\n",
       " 4.1240745,\n",
       " 3.7206662,\n",
       " 4.0119424,\n",
       " 4.1240745,\n",
       " 2.515145,\n",
       " 4.010101,\n",
       " 3.7268746,\n",
       " 3.9441106,\n",
       " 4.0499535,\n",
       " 3.493571,\n",
       " 4.1240745,\n",
       " 3.972604,\n",
       " 3.5171912,\n",
       " 4.1240745,\n",
       " 3.8707786,\n",
       " 4.036317,\n",
       " 2.015229,\n",
       " 3.8839843,\n",
       " 3.481294,\n",
       " 3.7303138,\n",
       " 3.4368143,\n",
       " 3.7165718,\n",
       " 3.926397,\n",
       " 3.9053748,\n",
       " 4.1240745,\n",
       " 3.8052683,\n",
       " 3.6048288,\n",
       " 4.1240745,\n",
       " 3.9865682,\n",
       " 4.1240745,\n",
       " 1.4559544,\n",
       " 4.049588,\n",
       " 3.487941,\n",
       " 4.008166,\n",
       " 4.1240745,\n",
       " 3.7817538,\n",
       " 4.1240745,\n",
       " 1.8687863,\n",
       " 3.728924,\n",
       " 4.0800314,\n",
       " 2.2309184,\n",
       " 3.8428667,\n",
       " 3.7307098,\n",
       " 3.3762035,\n",
       " 3.784334,\n",
       " 4.0721245,\n",
       " 3.2916663,\n",
       " 3.9662828,\n",
       " 3.5341177,\n",
       " 3.8033595,\n",
       " 4.0463586,\n",
       " 4.0290227,\n",
       " 3.9163373,\n",
       " 3.9407766,\n",
       " 4.1240745,\n",
       " 2.4420798,\n",
       " 4.010414,\n",
       " 3.9550974,\n",
       " 3.9412227,\n",
       " 4.1240745,\n",
       " 3.8678358,\n",
       " 4.1240745,\n",
       " 3.5548873,\n",
       " 3.7617924,\n",
       " 3.1924312,\n",
       " 3.783699,\n",
       " 3.771111,\n",
       " 4.1240745,\n",
       " 1.9260201,\n",
       " 3.9975748,\n",
       " 3.0877101,\n",
       " 0.86816835,\n",
       " 3.811756,\n",
       " 3.8799787,\n",
       " 3.762528,\n",
       " 3.9518883,\n",
       " 3.760324,\n",
       " 4.0310555,\n",
       " 3.2890496,\n",
       " 3.5084624,\n",
       " 1.6805161,\n",
       " 4.0263186,\n",
       " 3.4974935,\n",
       " 4.0020776,\n",
       " 3.0877101,\n",
       " 4.1240745,\n",
       " 3.9268548,\n",
       " 3.9418654,\n",
       " 3.5273309,\n",
       " 2.416779,\n",
       " 4.0115156,\n",
       " 3.6577244,\n",
       " 4.1240745,\n",
       " 4.006774,\n",
       " 3.8638194,\n",
       " 3.2866123,\n",
       " 3.4536088,\n",
       " 4.1240745,\n",
       " 4.0589952,\n",
       " 3.7890255,\n",
       " 3.6494143,\n",
       " 4.017101,\n",
       " 1.9870604,\n",
       " 3.6015801,\n",
       " 4.0127416,\n",
       " 4.059565,\n",
       " 4.0274777,\n",
       " 1.5138735,\n",
       " 4.1240745,\n",
       " 3.1458902,\n",
       " 3.0877101,\n",
       " 4.0181417,\n",
       " 4.0294604,\n",
       " 3.6063216,\n",
       " 4.1240745,\n",
       " 3.9203196,\n",
       " 3.558794,\n",
       " 2.015229,\n",
       " 3.9224057,\n",
       " 3.8618379,\n",
       " 4.1240745,\n",
       " 3.99099,\n",
       " 3.9550889,\n",
       " 1.4905386,\n",
       " 3.0877101,\n",
       " 3.157664,\n",
       " 3.923722,\n",
       " 3.6941128,\n",
       " 4.0310564,\n",
       " 2.5588608,\n",
       " 2.0993054,\n",
       " 1.9983932,\n",
       " 4.004019,\n",
       " 3.9035802,\n",
       " 3.807118,\n",
       " 3.998267,\n",
       " 1.5691969,\n",
       " 3.976871,\n",
       " 2.6339393,\n",
       " 2.3551066,\n",
       " 3.9470232,\n",
       " 3.47172,\n",
       " 2.4920964,\n",
       " 3.2574162,\n",
       " 3.6384134,\n",
       " 1.3286856,\n",
       " 3.6787865,\n",
       " 3.85522,\n",
       " 3.685729,\n",
       " 3.9320846,\n",
       " 3.9920132,\n",
       " 0.98194563,\n",
       " 3.9198725,\n",
       " 2.9658265,\n",
       " 3.7684507,\n",
       " 3.2133026,\n",
       " 3.8708792,\n",
       " 4.1240745,\n",
       " 2.2549574,\n",
       " 3.9211726,\n",
       " 3.5893312,\n",
       " 3.7034657,\n",
       " 4.0676837,\n",
       " 3.7119036,\n",
       " 1.8240899,\n",
       " 4.1240745,\n",
       " 3.826719,\n",
       " 3.1687741,\n",
       " 4.0442586,\n",
       " 3.5889666,\n",
       " 3.987761,\n",
       " 3.6883328,\n",
       " 4.0109963,\n",
       " 3.2102814,\n",
       " 3.0877101,\n",
       " 2.6342745,\n",
       " 3.2922566,\n",
       " 3.8537447,\n",
       " 3.816393,\n",
       " 2.028363,\n",
       " 4.1240745,\n",
       " 4.045721,\n",
       " 4.0056195,\n",
       " 3.268975,\n",
       " 1.2930025,\n",
       " 4.053467,\n",
       " 3.8802311,\n",
       " 4.1240745,\n",
       " 1.8206137,\n",
       " 4.034782,\n",
       " 4.009673,\n",
       " 3.569935,\n",
       " 3.8820412,\n",
       " 3.5556355,\n",
       " 3.0406015,\n",
       " 3.5000556,\n",
       " 3.3766134,\n",
       " 3.3527353,\n",
       " 4.1240745,\n",
       " 3.9969153,\n",
       " 3.802503,\n",
       " 3.5857723,\n",
       " 3.6348813,\n",
       " 3.8549514,\n",
       " 4.1240745,\n",
       " 3.7893786,\n",
       " ...]"
      ]
     },
     "execution_count": 66,
     "metadata": {
      "tags": []
     },
     "output_type": "execute_result"
    }
   ],
   "source": [
    "prediction = [pred for pred_list in predictions for pred in pred_list]\n",
    "prediction"
   ]
  },
  {
   "cell_type": "code",
   "execution_count": 67,
   "metadata": {
    "colab": {
     "base_uri": "https://localhost:8080/"
    },
    "id": "achJDpTo4Zis",
    "outputId": "3136a6c6-c340-4b27-d753-ec4fb71873d0"
   },
   "outputs": [
    {
     "data": {
      "text/plain": [
       "numpy.float32"
      ]
     },
     "execution_count": 67,
     "metadata": {
      "tags": []
     },
     "output_type": "execute_result"
    }
   ],
   "source": [
    "type(prediction[0])"
   ]
  },
  {
   "cell_type": "code",
   "execution_count": 74,
   "metadata": {
    "id": "GhWP4OxDrO-i"
   },
   "outputs": [],
   "source": [
    "# Write the preditions result to a new csv file 'rating_predictions'\n",
    "\n",
    "predictions = open('/rating_predictions.csv', 'w')\n",
    "i=0\n",
    "for l in open('/rating_pairs.csv'):\n",
    "    if l.startswith('userID'):\n",
    "        #header\n",
    "        predictions.write(l)\n",
    "        continue\n",
    "    u,p = l.strip().split('-')\n",
    "    predictions.write(u + '-' + p + str(prediction[i]+1) + '\\n')\n",
    "    i+=1\n",
    "predictions.close()"
   ]
  },
  {
   "cell_type": "code",
   "execution_count": 20,
   "metadata": {
    "colab": {
     "base_uri": "https://localhost:8080/",
     "height": 204
    },
    "id": "jcGX6pg-526Q",
    "outputId": "303522e6-66b9-4722-c50f-9836aca9f2a0"
   },
   "outputs": [
    {
     "data": {
      "text/html": [
       "<div>\n",
       "<style scoped>\n",
       "    .dataframe tbody tr th:only-of-type {\n",
       "        vertical-align: middle;\n",
       "    }\n",
       "\n",
       "    .dataframe tbody tr th {\n",
       "        vertical-align: top;\n",
       "    }\n",
       "\n",
       "    .dataframe thead th {\n",
       "        text-align: right;\n",
       "    }\n",
       "</style>\n",
       "<table border=\"1\" class=\"dataframe\">\n",
       "  <thead>\n",
       "    <tr style=\"text-align: right;\">\n",
       "      <th></th>\n",
       "      <th>userID-itemID</th>\n",
       "      <th>prediction</th>\n",
       "    </tr>\n",
       "  </thead>\n",
       "  <tbody>\n",
       "    <tr>\n",
       "      <th>0</th>\n",
       "      <td>u04140621-p65721979</td>\n",
       "      <td>5.124074</td>\n",
       "    </tr>\n",
       "    <tr>\n",
       "      <th>1</th>\n",
       "      <td>u74766187-p87809670</td>\n",
       "      <td>4.887234</td>\n",
       "    </tr>\n",
       "    <tr>\n",
       "      <th>2</th>\n",
       "      <td>u31689638-p52702240</td>\n",
       "      <td>5.015919</td>\n",
       "    </tr>\n",
       "    <tr>\n",
       "      <th>3</th>\n",
       "      <td>u35613516-p01314374</td>\n",
       "      <td>4.087710</td>\n",
       "    </tr>\n",
       "    <tr>\n",
       "      <th>4</th>\n",
       "      <td>u93320378-p84396269</td>\n",
       "      <td>4.870686</td>\n",
       "    </tr>\n",
       "  </tbody>\n",
       "</table>\n",
       "</div>"
      ],
      "text/plain": [
       "         userID-itemID  prediction\n",
       "0  u04140621-p65721979    5.124074\n",
       "1  u74766187-p87809670    4.887234\n",
       "2  u31689638-p52702240    5.015919\n",
       "3  u35613516-p01314374    4.087710\n",
       "4  u93320378-p84396269    4.870686"
      ]
     },
     "execution_count": 20,
     "metadata": {
      "tags": []
     },
     "output_type": "execute_result"
    }
   ],
   "source": [
    "rating_predictions = pd.read_csv('rating_predictions.csv')\n",
    "rating_predictions.head()"
   ]
  },
  {
   "cell_type": "code",
   "execution_count": 21,
   "metadata": {
    "colab": {
     "base_uri": "https://localhost:8080/",
     "height": 204
    },
    "id": "uyys8xNSnNyu",
    "outputId": "f8ac5df5-3af4-4443-9857-a272872217d1"
   },
   "outputs": [
    {
     "data": {
      "text/html": [
       "<div>\n",
       "<style scoped>\n",
       "    .dataframe tbody tr th:only-of-type {\n",
       "        vertical-align: middle;\n",
       "    }\n",
       "\n",
       "    .dataframe tbody tr th {\n",
       "        vertical-align: top;\n",
       "    }\n",
       "\n",
       "    .dataframe thead th {\n",
       "        text-align: right;\n",
       "    }\n",
       "</style>\n",
       "<table border=\"1\" class=\"dataframe\">\n",
       "  <thead>\n",
       "    <tr style=\"text-align: right;\">\n",
       "      <th></th>\n",
       "      <th>userID-itemID</th>\n",
       "      <th>prediction</th>\n",
       "    </tr>\n",
       "  </thead>\n",
       "  <tbody>\n",
       "    <tr>\n",
       "      <th>0</th>\n",
       "      <td>u04140621-p65721979</td>\n",
       "      <td>5.000000</td>\n",
       "    </tr>\n",
       "    <tr>\n",
       "      <th>1</th>\n",
       "      <td>u74766187-p87809670</td>\n",
       "      <td>4.887234</td>\n",
       "    </tr>\n",
       "    <tr>\n",
       "      <th>2</th>\n",
       "      <td>u31689638-p52702240</td>\n",
       "      <td>5.000000</td>\n",
       "    </tr>\n",
       "    <tr>\n",
       "      <th>3</th>\n",
       "      <td>u35613516-p01314374</td>\n",
       "      <td>4.087710</td>\n",
       "    </tr>\n",
       "    <tr>\n",
       "      <th>4</th>\n",
       "      <td>u93320378-p84396269</td>\n",
       "      <td>4.870686</td>\n",
       "    </tr>\n",
       "  </tbody>\n",
       "</table>\n",
       "</div>"
      ],
      "text/plain": [
       "         userID-itemID  prediction\n",
       "0  u04140621-p65721979    5.000000\n",
       "1  u74766187-p87809670    4.887234\n",
       "2  u31689638-p52702240    5.000000\n",
       "3  u35613516-p01314374    4.087710\n",
       "4  u93320378-p84396269    4.870686"
      ]
     },
     "execution_count": 21,
     "metadata": {
      "tags": []
     },
     "output_type": "execute_result"
    }
   ],
   "source": [
    "# check the value range of prediction, we find the maximum of larger than 5. Actual label range: [1-5]\n",
    "# convert predictions larger than 5 to 5\n",
    "rating_predictions['prediction'] = rating_predictions['prediction'].apply(lambda x: int(x) if x > 5 else x)\n",
    "rating_predictions.head()"
   ]
  },
  {
   "cell_type": "code",
   "execution_count": 22,
   "metadata": {
    "id": "p5Ruibk6p8M1"
   },
   "outputs": [],
   "source": [
    "rating_predictions.to_csv('rating_predictions_2.csv', index=False)"
   ]
  }
 ],
 "metadata": {
  "accelerator": "GPU",
  "colab": {
   "collapsed_sections": [],
   "machine_shape": "hm",
   "name": "MIE1624 Course Project Code2.ipynb",
   "provenance": []
  },
  "kernelspec": {
   "display_name": "Python 3",
   "language": "python",
   "name": "python3"
  },
  "language_info": {
   "codemirror_mode": {
    "name": "ipython",
    "version": 3
   },
   "file_extension": ".py",
   "mimetype": "text/x-python",
   "name": "python",
   "nbconvert_exporter": "python",
   "pygments_lexer": "ipython3",
   "version": "3.8.3"
  },
  "widgets": {
   "application/vnd.jupyter.widget-state+json": {
    "04667a9970ec4ff983f290983d683e5c": {
     "model_module": "@jupyter-widgets/controls",
     "model_name": "ProgressStyleModel",
     "state": {
      "_model_module": "@jupyter-widgets/controls",
      "_model_module_version": "1.5.0",
      "_model_name": "ProgressStyleModel",
      "_view_count": null,
      "_view_module": "@jupyter-widgets/base",
      "_view_module_version": "1.2.0",
      "_view_name": "StyleView",
      "bar_color": null,
      "description_width": "initial"
     }
    },
    "05418e0127524ddf9ec0e7a98b5706c4": {
     "model_module": "@jupyter-widgets/base",
     "model_name": "LayoutModel",
     "state": {
      "_model_module": "@jupyter-widgets/base",
      "_model_module_version": "1.2.0",
      "_model_name": "LayoutModel",
      "_view_count": null,
      "_view_module": "@jupyter-widgets/base",
      "_view_module_version": "1.2.0",
      "_view_name": "LayoutView",
      "align_content": null,
      "align_items": null,
      "align_self": null,
      "border": null,
      "bottom": null,
      "display": null,
      "flex": null,
      "flex_flow": null,
      "grid_area": null,
      "grid_auto_columns": null,
      "grid_auto_flow": null,
      "grid_auto_rows": null,
      "grid_column": null,
      "grid_gap": null,
      "grid_row": null,
      "grid_template_areas": null,
      "grid_template_columns": null,
      "grid_template_rows": null,
      "height": null,
      "justify_content": null,
      "justify_items": null,
      "left": null,
      "margin": null,
      "max_height": null,
      "max_width": null,
      "min_height": null,
      "min_width": null,
      "object_fit": null,
      "object_position": null,
      "order": null,
      "overflow": null,
      "overflow_x": null,
      "overflow_y": null,
      "padding": null,
      "right": null,
      "top": null,
      "visibility": null,
      "width": null
     }
    },
    "0897ae2421734f09b05cbad8aa6ba260": {
     "model_module": "@jupyter-widgets/controls",
     "model_name": "DescriptionStyleModel",
     "state": {
      "_model_module": "@jupyter-widgets/controls",
      "_model_module_version": "1.5.0",
      "_model_name": "DescriptionStyleModel",
      "_view_count": null,
      "_view_module": "@jupyter-widgets/base",
      "_view_module_version": "1.2.0",
      "_view_name": "StyleView",
      "description_width": ""
     }
    },
    "0cada631d6db465098409a854d6020fd": {
     "model_module": "@jupyter-widgets/controls",
     "model_name": "FloatProgressModel",
     "state": {
      "_dom_classes": [],
      "_model_module": "@jupyter-widgets/controls",
      "_model_module_version": "1.5.0",
      "_model_name": "FloatProgressModel",
      "_view_count": null,
      "_view_module": "@jupyter-widgets/controls",
      "_view_module_version": "1.5.0",
      "_view_name": "ProgressView",
      "bar_style": "success",
      "description": "Downloading: 100%",
      "description_tooltip": null,
      "layout": "IPY_MODEL_c3985d686c2f4c46b1179120c05ed1e6",
      "max": 433,
      "min": 0,
      "orientation": "horizontal",
      "style": "IPY_MODEL_95d0c2b0aac640179f4493f3bcedf141",
      "value": 433
     }
    },
    "0dcf9bbe592d41969f86daf27c5e725b": {
     "model_module": "@jupyter-widgets/controls",
     "model_name": "DescriptionStyleModel",
     "state": {
      "_model_module": "@jupyter-widgets/controls",
      "_model_module_version": "1.5.0",
      "_model_name": "DescriptionStyleModel",
      "_view_count": null,
      "_view_module": "@jupyter-widgets/base",
      "_view_module_version": "1.2.0",
      "_view_name": "StyleView",
      "description_width": ""
     }
    },
    "15b0844ecf83471ba6938be4fa263001": {
     "model_module": "@jupyter-widgets/base",
     "model_name": "LayoutModel",
     "state": {
      "_model_module": "@jupyter-widgets/base",
      "_model_module_version": "1.2.0",
      "_model_name": "LayoutModel",
      "_view_count": null,
      "_view_module": "@jupyter-widgets/base",
      "_view_module_version": "1.2.0",
      "_view_name": "LayoutView",
      "align_content": null,
      "align_items": null,
      "align_self": null,
      "border": null,
      "bottom": null,
      "display": null,
      "flex": null,
      "flex_flow": null,
      "grid_area": null,
      "grid_auto_columns": null,
      "grid_auto_flow": null,
      "grid_auto_rows": null,
      "grid_column": null,
      "grid_gap": null,
      "grid_row": null,
      "grid_template_areas": null,
      "grid_template_columns": null,
      "grid_template_rows": null,
      "height": null,
      "justify_content": null,
      "justify_items": null,
      "left": null,
      "margin": null,
      "max_height": null,
      "max_width": null,
      "min_height": null,
      "min_width": null,
      "object_fit": null,
      "object_position": null,
      "order": null,
      "overflow": null,
      "overflow_x": null,
      "overflow_y": null,
      "padding": null,
      "right": null,
      "top": null,
      "visibility": null,
      "width": null
     }
    },
    "1a084be0a1084363b007d6cc5433f080": {
     "model_module": "@jupyter-widgets/base",
     "model_name": "LayoutModel",
     "state": {
      "_model_module": "@jupyter-widgets/base",
      "_model_module_version": "1.2.0",
      "_model_name": "LayoutModel",
      "_view_count": null,
      "_view_module": "@jupyter-widgets/base",
      "_view_module_version": "1.2.0",
      "_view_name": "LayoutView",
      "align_content": null,
      "align_items": null,
      "align_self": null,
      "border": null,
      "bottom": null,
      "display": null,
      "flex": null,
      "flex_flow": null,
      "grid_area": null,
      "grid_auto_columns": null,
      "grid_auto_flow": null,
      "grid_auto_rows": null,
      "grid_column": null,
      "grid_gap": null,
      "grid_row": null,
      "grid_template_areas": null,
      "grid_template_columns": null,
      "grid_template_rows": null,
      "height": null,
      "justify_content": null,
      "justify_items": null,
      "left": null,
      "margin": null,
      "max_height": null,
      "max_width": null,
      "min_height": null,
      "min_width": null,
      "object_fit": null,
      "object_position": null,
      "order": null,
      "overflow": null,
      "overflow_x": null,
      "overflow_y": null,
      "padding": null,
      "right": null,
      "top": null,
      "visibility": null,
      "width": null
     }
    },
    "1f89640361d64759950e99e74cf418ef": {
     "model_module": "@jupyter-widgets/controls",
     "model_name": "FloatProgressModel",
     "state": {
      "_dom_classes": [],
      "_model_module": "@jupyter-widgets/controls",
      "_model_module_version": "1.5.0",
      "_model_name": "FloatProgressModel",
      "_view_count": null,
      "_view_module": "@jupyter-widgets/controls",
      "_view_module_version": "1.5.0",
      "_view_name": "ProgressView",
      "bar_style": "success",
      "description": "Downloading: 100%",
      "description_tooltip": null,
      "layout": "IPY_MODEL_dd7aa91399644643b31cd9433d8b4d35",
      "max": 231508,
      "min": 0,
      "orientation": "horizontal",
      "style": "IPY_MODEL_32acffb7bab84845ad084d86f0e04e99",
      "value": 231508
     }
    },
    "30a728461599426f8e58b9b811823d40": {
     "model_module": "@jupyter-widgets/controls",
     "model_name": "ProgressStyleModel",
     "state": {
      "_model_module": "@jupyter-widgets/controls",
      "_model_module_version": "1.5.0",
      "_model_name": "ProgressStyleModel",
      "_view_count": null,
      "_view_module": "@jupyter-widgets/base",
      "_view_module_version": "1.2.0",
      "_view_name": "StyleView",
      "bar_color": null,
      "description_width": "initial"
     }
    },
    "32acffb7bab84845ad084d86f0e04e99": {
     "model_module": "@jupyter-widgets/controls",
     "model_name": "ProgressStyleModel",
     "state": {
      "_model_module": "@jupyter-widgets/controls",
      "_model_module_version": "1.5.0",
      "_model_name": "ProgressStyleModel",
      "_view_count": null,
      "_view_module": "@jupyter-widgets/base",
      "_view_module_version": "1.2.0",
      "_view_name": "StyleView",
      "bar_color": null,
      "description_width": "initial"
     }
    },
    "34f9806566444aec901124d1162af6c9": {
     "model_module": "@jupyter-widgets/controls",
     "model_name": "HTMLModel",
     "state": {
      "_dom_classes": [],
      "_model_module": "@jupyter-widgets/controls",
      "_model_module_version": "1.5.0",
      "_model_name": "HTMLModel",
      "_view_count": null,
      "_view_module": "@jupyter-widgets/controls",
      "_view_module_version": "1.5.0",
      "_view_name": "HTMLView",
      "description": "",
      "description_tooltip": null,
      "layout": "IPY_MODEL_4512b94cea5543baac885020edde190c",
      "placeholder": "​",
      "style": "IPY_MODEL_92ec08287d7c47f4bcac79092cd985d3",
      "value": " 440M/440M [00:09&lt;00:00, 45.1MB/s]"
     }
    },
    "378b043e266f4a5ab61a0b0a88ae443e": {
     "model_module": "@jupyter-widgets/base",
     "model_name": "LayoutModel",
     "state": {
      "_model_module": "@jupyter-widgets/base",
      "_model_module_version": "1.2.0",
      "_model_name": "LayoutModel",
      "_view_count": null,
      "_view_module": "@jupyter-widgets/base",
      "_view_module_version": "1.2.0",
      "_view_name": "LayoutView",
      "align_content": null,
      "align_items": null,
      "align_self": null,
      "border": null,
      "bottom": null,
      "display": null,
      "flex": null,
      "flex_flow": null,
      "grid_area": null,
      "grid_auto_columns": null,
      "grid_auto_flow": null,
      "grid_auto_rows": null,
      "grid_column": null,
      "grid_gap": null,
      "grid_row": null,
      "grid_template_areas": null,
      "grid_template_columns": null,
      "grid_template_rows": null,
      "height": null,
      "justify_content": null,
      "justify_items": null,
      "left": null,
      "margin": null,
      "max_height": null,
      "max_width": null,
      "min_height": null,
      "min_width": null,
      "object_fit": null,
      "object_position": null,
      "order": null,
      "overflow": null,
      "overflow_x": null,
      "overflow_y": null,
      "padding": null,
      "right": null,
      "top": null,
      "visibility": null,
      "width": null
     }
    },
    "423dc766dd3d45d897edf1b459115ad5": {
     "model_module": "@jupyter-widgets/controls",
     "model_name": "FloatProgressModel",
     "state": {
      "_dom_classes": [],
      "_model_module": "@jupyter-widgets/controls",
      "_model_module_version": "1.5.0",
      "_model_name": "FloatProgressModel",
      "_view_count": null,
      "_view_module": "@jupyter-widgets/controls",
      "_view_module_version": "1.5.0",
      "_view_name": "ProgressView",
      "bar_style": "success",
      "description": "Downloading: 100%",
      "description_tooltip": null,
      "layout": "IPY_MODEL_43a3d41e63c846bebb45f325655f580d",
      "max": 466062,
      "min": 0,
      "orientation": "horizontal",
      "style": "IPY_MODEL_04667a9970ec4ff983f290983d683e5c",
      "value": 466062
     }
    },
    "4377ba87d72a4145b3613f46ccb7043a": {
     "model_module": "@jupyter-widgets/controls",
     "model_name": "HBoxModel",
     "state": {
      "_dom_classes": [],
      "_model_module": "@jupyter-widgets/controls",
      "_model_module_version": "1.5.0",
      "_model_name": "HBoxModel",
      "_view_count": null,
      "_view_module": "@jupyter-widgets/controls",
      "_view_module_version": "1.5.0",
      "_view_name": "HBoxView",
      "box_style": "",
      "children": [
       "IPY_MODEL_0cada631d6db465098409a854d6020fd",
       "IPY_MODEL_71e0d036e1e247e584d6b57d91dedcd6"
      ],
      "layout": "IPY_MODEL_dcedad6ff54d47c5be8b0357963b7bec"
     }
    },
    "43a3d41e63c846bebb45f325655f580d": {
     "model_module": "@jupyter-widgets/base",
     "model_name": "LayoutModel",
     "state": {
      "_model_module": "@jupyter-widgets/base",
      "_model_module_version": "1.2.0",
      "_model_name": "LayoutModel",
      "_view_count": null,
      "_view_module": "@jupyter-widgets/base",
      "_view_module_version": "1.2.0",
      "_view_name": "LayoutView",
      "align_content": null,
      "align_items": null,
      "align_self": null,
      "border": null,
      "bottom": null,
      "display": null,
      "flex": null,
      "flex_flow": null,
      "grid_area": null,
      "grid_auto_columns": null,
      "grid_auto_flow": null,
      "grid_auto_rows": null,
      "grid_column": null,
      "grid_gap": null,
      "grid_row": null,
      "grid_template_areas": null,
      "grid_template_columns": null,
      "grid_template_rows": null,
      "height": null,
      "justify_content": null,
      "justify_items": null,
      "left": null,
      "margin": null,
      "max_height": null,
      "max_width": null,
      "min_height": null,
      "min_width": null,
      "object_fit": null,
      "object_position": null,
      "order": null,
      "overflow": null,
      "overflow_x": null,
      "overflow_y": null,
      "padding": null,
      "right": null,
      "top": null,
      "visibility": null,
      "width": null
     }
    },
    "4512b94cea5543baac885020edde190c": {
     "model_module": "@jupyter-widgets/base",
     "model_name": "LayoutModel",
     "state": {
      "_model_module": "@jupyter-widgets/base",
      "_model_module_version": "1.2.0",
      "_model_name": "LayoutModel",
      "_view_count": null,
      "_view_module": "@jupyter-widgets/base",
      "_view_module_version": "1.2.0",
      "_view_name": "LayoutView",
      "align_content": null,
      "align_items": null,
      "align_self": null,
      "border": null,
      "bottom": null,
      "display": null,
      "flex": null,
      "flex_flow": null,
      "grid_area": null,
      "grid_auto_columns": null,
      "grid_auto_flow": null,
      "grid_auto_rows": null,
      "grid_column": null,
      "grid_gap": null,
      "grid_row": null,
      "grid_template_areas": null,
      "grid_template_columns": null,
      "grid_template_rows": null,
      "height": null,
      "justify_content": null,
      "justify_items": null,
      "left": null,
      "margin": null,
      "max_height": null,
      "max_width": null,
      "min_height": null,
      "min_width": null,
      "object_fit": null,
      "object_position": null,
      "order": null,
      "overflow": null,
      "overflow_x": null,
      "overflow_y": null,
      "padding": null,
      "right": null,
      "top": null,
      "visibility": null,
      "width": null
     }
    },
    "5abed608178646fe94fbf06887a5541e": {
     "model_module": "@jupyter-widgets/controls",
     "model_name": "HTMLModel",
     "state": {
      "_dom_classes": [],
      "_model_module": "@jupyter-widgets/controls",
      "_model_module_version": "1.5.0",
      "_model_name": "HTMLModel",
      "_view_count": null,
      "_view_module": "@jupyter-widgets/controls",
      "_view_module_version": "1.5.0",
      "_view_name": "HTMLView",
      "description": "",
      "description_tooltip": null,
      "layout": "IPY_MODEL_93c4aa5998244043a265606277af246a",
      "placeholder": "​",
      "style": "IPY_MODEL_f7c60d7ade274bdb89eebc4f9cf193e2",
      "value": " 28.0/28.0 [00:58&lt;00:00, 2.08s/B]"
     }
    },
    "6421cd11760b41b0a938150921416364": {
     "model_module": "@jupyter-widgets/base",
     "model_name": "LayoutModel",
     "state": {
      "_model_module": "@jupyter-widgets/base",
      "_model_module_version": "1.2.0",
      "_model_name": "LayoutModel",
      "_view_count": null,
      "_view_module": "@jupyter-widgets/base",
      "_view_module_version": "1.2.0",
      "_view_name": "LayoutView",
      "align_content": null,
      "align_items": null,
      "align_self": null,
      "border": null,
      "bottom": null,
      "display": null,
      "flex": null,
      "flex_flow": null,
      "grid_area": null,
      "grid_auto_columns": null,
      "grid_auto_flow": null,
      "grid_auto_rows": null,
      "grid_column": null,
      "grid_gap": null,
      "grid_row": null,
      "grid_template_areas": null,
      "grid_template_columns": null,
      "grid_template_rows": null,
      "height": null,
      "justify_content": null,
      "justify_items": null,
      "left": null,
      "margin": null,
      "max_height": null,
      "max_width": null,
      "min_height": null,
      "min_width": null,
      "object_fit": null,
      "object_position": null,
      "order": null,
      "overflow": null,
      "overflow_x": null,
      "overflow_y": null,
      "padding": null,
      "right": null,
      "top": null,
      "visibility": null,
      "width": null
     }
    },
    "6ce09713f1b248f3b56118fe8b72f5c9": {
     "model_module": "@jupyter-widgets/base",
     "model_name": "LayoutModel",
     "state": {
      "_model_module": "@jupyter-widgets/base",
      "_model_module_version": "1.2.0",
      "_model_name": "LayoutModel",
      "_view_count": null,
      "_view_module": "@jupyter-widgets/base",
      "_view_module_version": "1.2.0",
      "_view_name": "LayoutView",
      "align_content": null,
      "align_items": null,
      "align_self": null,
      "border": null,
      "bottom": null,
      "display": null,
      "flex": null,
      "flex_flow": null,
      "grid_area": null,
      "grid_auto_columns": null,
      "grid_auto_flow": null,
      "grid_auto_rows": null,
      "grid_column": null,
      "grid_gap": null,
      "grid_row": null,
      "grid_template_areas": null,
      "grid_template_columns": null,
      "grid_template_rows": null,
      "height": null,
      "justify_content": null,
      "justify_items": null,
      "left": null,
      "margin": null,
      "max_height": null,
      "max_width": null,
      "min_height": null,
      "min_width": null,
      "object_fit": null,
      "object_position": null,
      "order": null,
      "overflow": null,
      "overflow_x": null,
      "overflow_y": null,
      "padding": null,
      "right": null,
      "top": null,
      "visibility": null,
      "width": null
     }
    },
    "71e0d036e1e247e584d6b57d91dedcd6": {
     "model_module": "@jupyter-widgets/controls",
     "model_name": "HTMLModel",
     "state": {
      "_dom_classes": [],
      "_model_module": "@jupyter-widgets/controls",
      "_model_module_version": "1.5.0",
      "_model_name": "HTMLModel",
      "_view_count": null,
      "_view_module": "@jupyter-widgets/controls",
      "_view_module_version": "1.5.0",
      "_view_name": "HTMLView",
      "description": "",
      "description_tooltip": null,
      "layout": "IPY_MODEL_05418e0127524ddf9ec0e7a98b5706c4",
      "placeholder": "​",
      "style": "IPY_MODEL_0897ae2421734f09b05cbad8aa6ba260",
      "value": " 433/433 [00:00&lt;00:00, 1.15kB/s]"
     }
    },
    "76a1bf2375e14a6ea7bd250a410cb397": {
     "model_module": "@jupyter-widgets/controls",
     "model_name": "FloatProgressModel",
     "state": {
      "_dom_classes": [],
      "_model_module": "@jupyter-widgets/controls",
      "_model_module_version": "1.5.0",
      "_model_name": "FloatProgressModel",
      "_view_count": null,
      "_view_module": "@jupyter-widgets/controls",
      "_view_module_version": "1.5.0",
      "_view_name": "ProgressView",
      "bar_style": "success",
      "description": "Downloading: 100%",
      "description_tooltip": null,
      "layout": "IPY_MODEL_1a084be0a1084363b007d6cc5433f080",
      "max": 28,
      "min": 0,
      "orientation": "horizontal",
      "style": "IPY_MODEL_e8d1d2712f1e468da287eab1bfd350e2",
      "value": 28
     }
    },
    "8de31479fd294ae09d1c8723a16dbfd6": {
     "model_module": "@jupyter-widgets/controls",
     "model_name": "HBoxModel",
     "state": {
      "_dom_classes": [],
      "_model_module": "@jupyter-widgets/controls",
      "_model_module_version": "1.5.0",
      "_model_name": "HBoxModel",
      "_view_count": null,
      "_view_module": "@jupyter-widgets/controls",
      "_view_module_version": "1.5.0",
      "_view_name": "HBoxView",
      "box_style": "",
      "children": [
       "IPY_MODEL_76a1bf2375e14a6ea7bd250a410cb397",
       "IPY_MODEL_5abed608178646fe94fbf06887a5541e"
      ],
      "layout": "IPY_MODEL_e1c9eddfe579472e97e32ff421b880e3"
     }
    },
    "92ec08287d7c47f4bcac79092cd985d3": {
     "model_module": "@jupyter-widgets/controls",
     "model_name": "DescriptionStyleModel",
     "state": {
      "_model_module": "@jupyter-widgets/controls",
      "_model_module_version": "1.5.0",
      "_model_name": "DescriptionStyleModel",
      "_view_count": null,
      "_view_module": "@jupyter-widgets/base",
      "_view_module_version": "1.2.0",
      "_view_name": "StyleView",
      "description_width": ""
     }
    },
    "93c4aa5998244043a265606277af246a": {
     "model_module": "@jupyter-widgets/base",
     "model_name": "LayoutModel",
     "state": {
      "_model_module": "@jupyter-widgets/base",
      "_model_module_version": "1.2.0",
      "_model_name": "LayoutModel",
      "_view_count": null,
      "_view_module": "@jupyter-widgets/base",
      "_view_module_version": "1.2.0",
      "_view_name": "LayoutView",
      "align_content": null,
      "align_items": null,
      "align_self": null,
      "border": null,
      "bottom": null,
      "display": null,
      "flex": null,
      "flex_flow": null,
      "grid_area": null,
      "grid_auto_columns": null,
      "grid_auto_flow": null,
      "grid_auto_rows": null,
      "grid_column": null,
      "grid_gap": null,
      "grid_row": null,
      "grid_template_areas": null,
      "grid_template_columns": null,
      "grid_template_rows": null,
      "height": null,
      "justify_content": null,
      "justify_items": null,
      "left": null,
      "margin": null,
      "max_height": null,
      "max_width": null,
      "min_height": null,
      "min_width": null,
      "object_fit": null,
      "object_position": null,
      "order": null,
      "overflow": null,
      "overflow_x": null,
      "overflow_y": null,
      "padding": null,
      "right": null,
      "top": null,
      "visibility": null,
      "width": null
     }
    },
    "95d0c2b0aac640179f4493f3bcedf141": {
     "model_module": "@jupyter-widgets/controls",
     "model_name": "ProgressStyleModel",
     "state": {
      "_model_module": "@jupyter-widgets/controls",
      "_model_module_version": "1.5.0",
      "_model_name": "ProgressStyleModel",
      "_view_count": null,
      "_view_module": "@jupyter-widgets/base",
      "_view_module_version": "1.2.0",
      "_view_name": "StyleView",
      "bar_color": null,
      "description_width": "initial"
     }
    },
    "960eca5894494b5ba5036dc2e164c464": {
     "model_module": "@jupyter-widgets/base",
     "model_name": "LayoutModel",
     "state": {
      "_model_module": "@jupyter-widgets/base",
      "_model_module_version": "1.2.0",
      "_model_name": "LayoutModel",
      "_view_count": null,
      "_view_module": "@jupyter-widgets/base",
      "_view_module_version": "1.2.0",
      "_view_name": "LayoutView",
      "align_content": null,
      "align_items": null,
      "align_self": null,
      "border": null,
      "bottom": null,
      "display": null,
      "flex": null,
      "flex_flow": null,
      "grid_area": null,
      "grid_auto_columns": null,
      "grid_auto_flow": null,
      "grid_auto_rows": null,
      "grid_column": null,
      "grid_gap": null,
      "grid_row": null,
      "grid_template_areas": null,
      "grid_template_columns": null,
      "grid_template_rows": null,
      "height": null,
      "justify_content": null,
      "justify_items": null,
      "left": null,
      "margin": null,
      "max_height": null,
      "max_width": null,
      "min_height": null,
      "min_width": null,
      "object_fit": null,
      "object_position": null,
      "order": null,
      "overflow": null,
      "overflow_x": null,
      "overflow_y": null,
      "padding": null,
      "right": null,
      "top": null,
      "visibility": null,
      "width": null
     }
    },
    "9d76b7420e0e4358b4561fc0989e3f74": {
     "model_module": "@jupyter-widgets/controls",
     "model_name": "DescriptionStyleModel",
     "state": {
      "_model_module": "@jupyter-widgets/controls",
      "_model_module_version": "1.5.0",
      "_model_name": "DescriptionStyleModel",
      "_view_count": null,
      "_view_module": "@jupyter-widgets/base",
      "_view_module_version": "1.2.0",
      "_view_name": "StyleView",
      "description_width": ""
     }
    },
    "ac344ff3935e457fac08cc38e27e7ae8": {
     "model_module": "@jupyter-widgets/controls",
     "model_name": "HTMLModel",
     "state": {
      "_dom_classes": [],
      "_model_module": "@jupyter-widgets/controls",
      "_model_module_version": "1.5.0",
      "_model_name": "HTMLModel",
      "_view_count": null,
      "_view_module": "@jupyter-widgets/controls",
      "_view_module_version": "1.5.0",
      "_view_name": "HTMLView",
      "description": "",
      "description_tooltip": null,
      "layout": "IPY_MODEL_6ce09713f1b248f3b56118fe8b72f5c9",
      "placeholder": "​",
      "style": "IPY_MODEL_0dcf9bbe592d41969f86daf27c5e725b",
      "value": " 466k/466k [00:01&lt;00:00, 309kB/s]"
     }
    },
    "c3985d686c2f4c46b1179120c05ed1e6": {
     "model_module": "@jupyter-widgets/base",
     "model_name": "LayoutModel",
     "state": {
      "_model_module": "@jupyter-widgets/base",
      "_model_module_version": "1.2.0",
      "_model_name": "LayoutModel",
      "_view_count": null,
      "_view_module": "@jupyter-widgets/base",
      "_view_module_version": "1.2.0",
      "_view_name": "LayoutView",
      "align_content": null,
      "align_items": null,
      "align_self": null,
      "border": null,
      "bottom": null,
      "display": null,
      "flex": null,
      "flex_flow": null,
      "grid_area": null,
      "grid_auto_columns": null,
      "grid_auto_flow": null,
      "grid_auto_rows": null,
      "grid_column": null,
      "grid_gap": null,
      "grid_row": null,
      "grid_template_areas": null,
      "grid_template_columns": null,
      "grid_template_rows": null,
      "height": null,
      "justify_content": null,
      "justify_items": null,
      "left": null,
      "margin": null,
      "max_height": null,
      "max_width": null,
      "min_height": null,
      "min_width": null,
      "object_fit": null,
      "object_position": null,
      "order": null,
      "overflow": null,
      "overflow_x": null,
      "overflow_y": null,
      "padding": null,
      "right": null,
      "top": null,
      "visibility": null,
      "width": null
     }
    },
    "d3183133082f481a89933ead365d8fde": {
     "model_module": "@jupyter-widgets/controls",
     "model_name": "FloatProgressModel",
     "state": {
      "_dom_classes": [],
      "_model_module": "@jupyter-widgets/controls",
      "_model_module_version": "1.5.0",
      "_model_name": "FloatProgressModel",
      "_view_count": null,
      "_view_module": "@jupyter-widgets/controls",
      "_view_module_version": "1.5.0",
      "_view_name": "ProgressView",
      "bar_style": "success",
      "description": "Downloading: 100%",
      "description_tooltip": null,
      "layout": "IPY_MODEL_960eca5894494b5ba5036dc2e164c464",
      "max": 440473133,
      "min": 0,
      "orientation": "horizontal",
      "style": "IPY_MODEL_30a728461599426f8e58b9b811823d40",
      "value": 440473133
     }
    },
    "d62daee6f5f148b1accd3968f3e5e483": {
     "model_module": "@jupyter-widgets/controls",
     "model_name": "HTMLModel",
     "state": {
      "_dom_classes": [],
      "_model_module": "@jupyter-widgets/controls",
      "_model_module_version": "1.5.0",
      "_model_name": "HTMLModel",
      "_view_count": null,
      "_view_module": "@jupyter-widgets/controls",
      "_view_module_version": "1.5.0",
      "_view_name": "HTMLView",
      "description": "",
      "description_tooltip": null,
      "layout": "IPY_MODEL_378b043e266f4a5ab61a0b0a88ae443e",
      "placeholder": "​",
      "style": "IPY_MODEL_9d76b7420e0e4358b4561fc0989e3f74",
      "value": " 232k/232k [01:00&lt;00:00, 3.82kB/s]"
     }
    },
    "dcedad6ff54d47c5be8b0357963b7bec": {
     "model_module": "@jupyter-widgets/base",
     "model_name": "LayoutModel",
     "state": {
      "_model_module": "@jupyter-widgets/base",
      "_model_module_version": "1.2.0",
      "_model_name": "LayoutModel",
      "_view_count": null,
      "_view_module": "@jupyter-widgets/base",
      "_view_module_version": "1.2.0",
      "_view_name": "LayoutView",
      "align_content": null,
      "align_items": null,
      "align_self": null,
      "border": null,
      "bottom": null,
      "display": null,
      "flex": null,
      "flex_flow": null,
      "grid_area": null,
      "grid_auto_columns": null,
      "grid_auto_flow": null,
      "grid_auto_rows": null,
      "grid_column": null,
      "grid_gap": null,
      "grid_row": null,
      "grid_template_areas": null,
      "grid_template_columns": null,
      "grid_template_rows": null,
      "height": null,
      "justify_content": null,
      "justify_items": null,
      "left": null,
      "margin": null,
      "max_height": null,
      "max_width": null,
      "min_height": null,
      "min_width": null,
      "object_fit": null,
      "object_position": null,
      "order": null,
      "overflow": null,
      "overflow_x": null,
      "overflow_y": null,
      "padding": null,
      "right": null,
      "top": null,
      "visibility": null,
      "width": null
     }
    },
    "dd5df843639f484b81a4a76b5afcbc78": {
     "model_module": "@jupyter-widgets/base",
     "model_name": "LayoutModel",
     "state": {
      "_model_module": "@jupyter-widgets/base",
      "_model_module_version": "1.2.0",
      "_model_name": "LayoutModel",
      "_view_count": null,
      "_view_module": "@jupyter-widgets/base",
      "_view_module_version": "1.2.0",
      "_view_name": "LayoutView",
      "align_content": null,
      "align_items": null,
      "align_self": null,
      "border": null,
      "bottom": null,
      "display": null,
      "flex": null,
      "flex_flow": null,
      "grid_area": null,
      "grid_auto_columns": null,
      "grid_auto_flow": null,
      "grid_auto_rows": null,
      "grid_column": null,
      "grid_gap": null,
      "grid_row": null,
      "grid_template_areas": null,
      "grid_template_columns": null,
      "grid_template_rows": null,
      "height": null,
      "justify_content": null,
      "justify_items": null,
      "left": null,
      "margin": null,
      "max_height": null,
      "max_width": null,
      "min_height": null,
      "min_width": null,
      "object_fit": null,
      "object_position": null,
      "order": null,
      "overflow": null,
      "overflow_x": null,
      "overflow_y": null,
      "padding": null,
      "right": null,
      "top": null,
      "visibility": null,
      "width": null
     }
    },
    "dd7aa91399644643b31cd9433d8b4d35": {
     "model_module": "@jupyter-widgets/base",
     "model_name": "LayoutModel",
     "state": {
      "_model_module": "@jupyter-widgets/base",
      "_model_module_version": "1.2.0",
      "_model_name": "LayoutModel",
      "_view_count": null,
      "_view_module": "@jupyter-widgets/base",
      "_view_module_version": "1.2.0",
      "_view_name": "LayoutView",
      "align_content": null,
      "align_items": null,
      "align_self": null,
      "border": null,
      "bottom": null,
      "display": null,
      "flex": null,
      "flex_flow": null,
      "grid_area": null,
      "grid_auto_columns": null,
      "grid_auto_flow": null,
      "grid_auto_rows": null,
      "grid_column": null,
      "grid_gap": null,
      "grid_row": null,
      "grid_template_areas": null,
      "grid_template_columns": null,
      "grid_template_rows": null,
      "height": null,
      "justify_content": null,
      "justify_items": null,
      "left": null,
      "margin": null,
      "max_height": null,
      "max_width": null,
      "min_height": null,
      "min_width": null,
      "object_fit": null,
      "object_position": null,
      "order": null,
      "overflow": null,
      "overflow_x": null,
      "overflow_y": null,
      "padding": null,
      "right": null,
      "top": null,
      "visibility": null,
      "width": null
     }
    },
    "e1c9eddfe579472e97e32ff421b880e3": {
     "model_module": "@jupyter-widgets/base",
     "model_name": "LayoutModel",
     "state": {
      "_model_module": "@jupyter-widgets/base",
      "_model_module_version": "1.2.0",
      "_model_name": "LayoutModel",
      "_view_count": null,
      "_view_module": "@jupyter-widgets/base",
      "_view_module_version": "1.2.0",
      "_view_name": "LayoutView",
      "align_content": null,
      "align_items": null,
      "align_self": null,
      "border": null,
      "bottom": null,
      "display": null,
      "flex": null,
      "flex_flow": null,
      "grid_area": null,
      "grid_auto_columns": null,
      "grid_auto_flow": null,
      "grid_auto_rows": null,
      "grid_column": null,
      "grid_gap": null,
      "grid_row": null,
      "grid_template_areas": null,
      "grid_template_columns": null,
      "grid_template_rows": null,
      "height": null,
      "justify_content": null,
      "justify_items": null,
      "left": null,
      "margin": null,
      "max_height": null,
      "max_width": null,
      "min_height": null,
      "min_width": null,
      "object_fit": null,
      "object_position": null,
      "order": null,
      "overflow": null,
      "overflow_x": null,
      "overflow_y": null,
      "padding": null,
      "right": null,
      "top": null,
      "visibility": null,
      "width": null
     }
    },
    "e3af94b50ea34cbfb128fc17dc166d6d": {
     "model_module": "@jupyter-widgets/controls",
     "model_name": "HBoxModel",
     "state": {
      "_dom_classes": [],
      "_model_module": "@jupyter-widgets/controls",
      "_model_module_version": "1.5.0",
      "_model_name": "HBoxModel",
      "_view_count": null,
      "_view_module": "@jupyter-widgets/controls",
      "_view_module_version": "1.5.0",
      "_view_name": "HBoxView",
      "box_style": "",
      "children": [
       "IPY_MODEL_d3183133082f481a89933ead365d8fde",
       "IPY_MODEL_34f9806566444aec901124d1162af6c9"
      ],
      "layout": "IPY_MODEL_6421cd11760b41b0a938150921416364"
     }
    },
    "e8d1d2712f1e468da287eab1bfd350e2": {
     "model_module": "@jupyter-widgets/controls",
     "model_name": "ProgressStyleModel",
     "state": {
      "_model_module": "@jupyter-widgets/controls",
      "_model_module_version": "1.5.0",
      "_model_name": "ProgressStyleModel",
      "_view_count": null,
      "_view_module": "@jupyter-widgets/base",
      "_view_module_version": "1.2.0",
      "_view_name": "StyleView",
      "bar_color": null,
      "description_width": "initial"
     }
    },
    "e9e7da74d85b4512960ad12fe7a456ef": {
     "model_module": "@jupyter-widgets/controls",
     "model_name": "HBoxModel",
     "state": {
      "_dom_classes": [],
      "_model_module": "@jupyter-widgets/controls",
      "_model_module_version": "1.5.0",
      "_model_name": "HBoxModel",
      "_view_count": null,
      "_view_module": "@jupyter-widgets/controls",
      "_view_module_version": "1.5.0",
      "_view_name": "HBoxView",
      "box_style": "",
      "children": [
       "IPY_MODEL_1f89640361d64759950e99e74cf418ef",
       "IPY_MODEL_d62daee6f5f148b1accd3968f3e5e483"
      ],
      "layout": "IPY_MODEL_15b0844ecf83471ba6938be4fa263001"
     }
    },
    "ee1fe97ad6944c76a803ea5d4254180f": {
     "model_module": "@jupyter-widgets/controls",
     "model_name": "HBoxModel",
     "state": {
      "_dom_classes": [],
      "_model_module": "@jupyter-widgets/controls",
      "_model_module_version": "1.5.0",
      "_model_name": "HBoxModel",
      "_view_count": null,
      "_view_module": "@jupyter-widgets/controls",
      "_view_module_version": "1.5.0",
      "_view_name": "HBoxView",
      "box_style": "",
      "children": [
       "IPY_MODEL_423dc766dd3d45d897edf1b459115ad5",
       "IPY_MODEL_ac344ff3935e457fac08cc38e27e7ae8"
      ],
      "layout": "IPY_MODEL_dd5df843639f484b81a4a76b5afcbc78"
     }
    },
    "f7c60d7ade274bdb89eebc4f9cf193e2": {
     "model_module": "@jupyter-widgets/controls",
     "model_name": "DescriptionStyleModel",
     "state": {
      "_model_module": "@jupyter-widgets/controls",
      "_model_module_version": "1.5.0",
      "_model_name": "DescriptionStyleModel",
      "_view_count": null,
      "_view_module": "@jupyter-widgets/base",
      "_view_module_version": "1.2.0",
      "_view_name": "StyleView",
      "description_width": ""
     }
    }
   }
  }
 },
 "nbformat": 4,
 "nbformat_minor": 1
}
